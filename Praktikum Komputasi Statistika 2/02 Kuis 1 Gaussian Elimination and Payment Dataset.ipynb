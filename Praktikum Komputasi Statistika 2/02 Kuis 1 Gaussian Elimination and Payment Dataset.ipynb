{
  "cells": [
    {
      "cell_type": "markdown",
      "metadata": {
        "id": "8hi7TQO2bEja"
      },
      "source": [
        "<p style=\"font-size: 100px;\"><b>Gaussian Elimination</b></p>"
      ]
    },
    {
      "cell_type": "markdown",
      "metadata": {
        "id": "JHw7KyznbEkS"
      },
      "source": [
        "<a name=\"1\"></a>\n",
        "## 1 - Introduction\n",
        "\n",
        "\n",
        "<a name=\"1.1\"></a>\n",
        "### 1.1 How to complete this assignment\n",
        "\n",
        "This assignment has $3$ graded functions. Each graded function will have some parts replaced as `None`. These parts you have to replace with the proper value. For instance, in the first graded function there is this line of code:\n",
        "\n",
        "```Python\n",
        "pivot_candidate = M[None, None]\n",
        "```\n",
        "\n",
        "This means that you must replace the correct values for the row (first None) and column (second None). Do not worry, the functions have comments on every line of code so you won't get lost!\n",
        "\n",
        "After each graded function, there is a code to test your solution. It will test your function with some basic and quick tests to assure you are in the right path! **Note that these tests perform only basic tests, so you may pass in the unit tests but fail when submitting your code.** This is because when grading we perform more complex tests. However, in any case you will be provided with feedbacks so it will help you debugging your code.\n",
        "\n",
        "<a name=\"1.2\"></a>\n",
        "### 1.2 Gaussian Elimination Algorithm\n",
        "\n",
        "Gaussian elimination offers a systematic approach to solving systems of linear equations by transforming an augmented matrix into row-echelon form, thereby enabling the determination of variables. The algorithm comprises several essential steps:\n",
        "\n",
        "**NOTE**:\n",
        "\n",
        "- For simplicity, the algorithm you will develop here will only work on **non-singular** systems of equations, i.e., equations that have a unique solution.\n",
        "- Remember you can check if a matrix is singular or not by computing its determinant.\n",
        "\n",
        "### Step 1: Augmented Matrix\n",
        "\n",
        "Consider a system of linear equations:\n",
        "\n",
        "$$\n",
        "\\begin{align*}\n",
        "2x_1 + 3x_2 + 5x_3&= 12 \\\\\n",
        "-3x_1 - 2x_2 + 4x_3 &= -2 \\\\\n",
        "x_1 + x_2 - 2x_3  &= 8 \\\\\n",
        "\\end{align*}\n",
        "$$\n",
        "Create the augmented matrix \\([A | B]\\), where \\(A\\) represents the coefficient matrix and \\(B\\) denotes the column vector of constants:\n",
        "\n",
        "$$\n",
        "A = \\begin{bmatrix}\n",
        "\\phantom{-}2 & \\phantom{-}3 & \\phantom{-}5  \\\\\n",
        "-3 & -2 & \\phantom-4 \\\\\n",
        "\\phantom{-}1 & \\phantom{-}1 & -2  \\\\\n",
        "\\end{bmatrix}\n",
        "$$\n",
        "\n",
        "$$\n",
        "B = \\begin{bmatrix}\n",
        "\\phantom-12 \\\\ -2 \\\\ \\phantom-8\n",
        "\\end{bmatrix}\n",
        "$$\n",
        "\n",
        "Thus, \\([A | B]\\) is represented as:\n",
        "\n",
        "$$\n",
        "\\begin{bmatrix}\n",
        "\\phantom{-}2 & \\phantom{-}3 & \\phantom{-}5 & | & \\phantom{-}12 \\\\\n",
        "-3 & -2 & \\phantom-4 & | & -2 \\\\\n",
        "\\phantom{-}1 & \\phantom{-}1 & -2 & | & \\phantom{-}8 \\\\\n",
        "\\end{bmatrix}\n",
        "$$\n",
        "\n",
        "Note: For this assignment, matrix \\(A\\) is **always square**, accommodating scenarios with \\(n\\) equations and \\(n\\) variables.\n",
        "\n",
        "### Step 2: Transform Matrix into Row Echelon Form\n",
        "Initiate row operations to convert the augmented matrix into row-echelon form. The objective is to introduce zeros below the leading diagonal.\n",
        "\n",
        "- **Row Switching:** Rearrange rows to position the leftmost non-zero entry at the top.\n",
        "- **Row Scaling:** Multiply a row by a non-zero scalar.\n",
        "- **Row Replacement:** Substitute a row with the sum of itself and a multiple of another row.\n",
        "\n",
        "### Step 3: Back Substitution\n",
        "\n",
        "After attaining the row-echelon form, solve for variables starting from the last row and progressing upwards.\n",
        "\n",
        "Remember, the aim is to simplify the system for easy determination of solutions!\n",
        "\n",
        "### Step 4: Compile the Gaussian Elimination Algorithm\n",
        "\n",
        "Combine each function related to the aforementioned steps into a single comprehensive function."
      ]
    },
    {
      "cell_type": "markdown",
      "metadata": {
        "id": "bYIHVjfjbEki"
      },
      "source": [
        "<a name=\"2\"></a>\n",
        "## 2 - Necessary imports\n",
        "\n",
        "Next codeblock will import the necessary libraries to run this assignment. Please do not add nor remove any value there."
      ]
    },
    {
      "cell_type": "code",
      "execution_count": null,
      "metadata": {
        "tags": [
          "graded"
        ],
        "id": "ylWNA54-bEkw"
      },
      "outputs": [],
      "source": [
        "import numpy as np"
      ]
    },
    {
      "cell_type": "code",
      "execution_count": null,
      "metadata": {
        "id": "6egwKX6-bEky"
      },
      "outputs": [],
      "source": [
        "import w2_unittest"
      ]
    },
    {
      "cell_type": "markdown",
      "metadata": {
        "id": "zQe2H07cbEkz"
      },
      "source": [
        "<a name=\"3\"></a>\n",
        "## 3 - Auxiliary functions\n",
        "\n",
        "This section introduces three auxiliary functions crucial for facilitating your assignment. These functions have already been coded, eliminating the need for your concern regarding their implementation. However, it's essential to examine them carefully to grasp their appropriate usage.\n"
      ]
    },
    {
      "cell_type": "markdown",
      "metadata": {
        "id": "aHSbW7kjbElA"
      },
      "source": [
        "<a name=\"3.1\"></a>\n",
        "### 3.1 - Function swap rows\n",
        "\n",
        "This function has as input a [numpy array](https://numpy.org/doc/stable/reference/generated/numpy.array.html) and two indexes to swap the rows corresponding to those indexes. It **does not change the original matrix**, but returns a new one."
      ]
    },
    {
      "cell_type": "code",
      "execution_count": null,
      "metadata": {
        "tags": [
          "graded"
        ],
        "id": "stj4GLqrbElC"
      },
      "outputs": [],
      "source": [
        "def swap_rows(M, row_index_1, row_index_2):\n",
        "    \"\"\"\n",
        "    Swap rows in the given matrix.\n",
        "\n",
        "    Parameters:\n",
        "    - matrix (numpy.array): The input matrix to perform row swaps on.\n",
        "    - row_index_1 (int): Index of the first row to be swapped.\n",
        "    - row_index_2 (int): Index of the second row to be swapped.\n",
        "    \"\"\"\n",
        "\n",
        "    # Copy matrix M so the changes do not affect the original matrix.\n",
        "    M = M.copy()\n",
        "    # Swap indexes\n",
        "    M[[row_index_1, row_index_2]] = M[[row_index_2, row_index_1]]\n",
        "    return M"
      ]
    },
    {
      "cell_type": "markdown",
      "metadata": {
        "id": "_AF33Dc5bElE"
      },
      "source": [
        "Let's practice with some examples. Consider the following matrix $M$."
      ]
    },
    {
      "cell_type": "code",
      "execution_count": null,
      "metadata": {
        "id": "20G053O2bElQ",
        "outputId": "3852810c-e735-49fb-936f-5bec008ebf8c"
      },
      "outputs": [
        {
          "name": "stdout",
          "output_type": "stream",
          "text": [
            "[[ 1  3  6]\n",
            " [ 0 -5  2]\n",
            " [-4  5  8]]\n"
          ]
        }
      ],
      "source": [
        "M = np.array([\n",
        "[1, 3, 6],\n",
        "[0, -5, 2],\n",
        "[-4, 5, 8]\n",
        "])\n",
        "print(M)"
      ]
    },
    {
      "cell_type": "markdown",
      "metadata": {
        "id": "oV77fqdMbElT"
      },
      "source": [
        "Swapping row $0$ with row $2$:"
      ]
    },
    {
      "cell_type": "code",
      "execution_count": null,
      "metadata": {
        "id": "wfuBMr3XbElU",
        "outputId": "76e82f9b-1a5e-48cb-da59-bcf3aa9f8f22"
      },
      "outputs": [
        {
          "name": "stdout",
          "output_type": "stream",
          "text": [
            "[[-4  5  8]\n",
            " [ 0 -5  2]\n",
            " [ 1  3  6]]\n"
          ]
        }
      ],
      "source": [
        "M_swapped = swap_rows(M, 0, 2)\n",
        "print(M_swapped)"
      ]
    },
    {
      "cell_type": "markdown",
      "metadata": {
        "id": "ur0p3iUVbElV"
      },
      "source": [
        "<a name=\"3.2\"></a>\n",
        "### 3.2 - Finding the first non-zero value in a column starting from a specific value\n",
        "\n",
        "This function becomes essential when encountering a $0$ value during row operations. It determines whether a non-zero value exists below the encountered zero, allowing for potential row swaps. Consider the following scenario within a square matrix (non-augmented):\n",
        "\n",
        "Let's say, during a specific step of the row-echelon form process, you've successfully reduced the first 2 rows, but you encounter a zero pivot (highlighted in red) in the third row. The task is to search, **solely in entries below the pivot**, for a potential row swap.\n",
        "\n",
        "$$\n",
        "\\begin{bmatrix}\n",
        "6 & 4 & 8 & 1 \\\\\n",
        "0 & 8 & 6 & 4 \\\\\n",
        "\\color{darkred}0 & \\color{darkred}0 & \\color{red}0 & \\color{darkred}3 \\\\\n",
        "0 & 0 & 5 & 9\n",
        "\\end{bmatrix}\n",
        "$$\n",
        "\n",
        "Performing a row swap between indexes 2 and 3 (remember, indexing starts at 0!), the matrix transforms into:\n",
        "\n",
        "$$\n",
        "\\begin{bmatrix}\n",
        "6 & 4 & 8 & 1 \\\\\n",
        "0 & 8 & 6 & 4 \\\\\n",
        "0 & 0 & 5 & 9  \\\\\n",
        "0 & 0 & 0 & 3\n",
        "\\end{bmatrix}\n",
        "$$\n",
        "\n",
        "Resulting in the matrix achieving the row-echelon form."
      ]
    },
    {
      "cell_type": "code",
      "execution_count": null,
      "metadata": {
        "tags": [
          "graded"
        ],
        "id": "IITaMTscbElh"
      },
      "outputs": [],
      "source": [
        "def get_index_first_non_zero_value_from_column(M, column, starting_row):\n",
        "    \"\"\"\n",
        "    Retrieve the index of the first non-zero value in a specified column of the given matrix.\n",
        "\n",
        "    Parameters:\n",
        "    - matrix (numpy.array): The input matrix to search for non-zero values.\n",
        "    - column (int): The index of the column to search.\n",
        "    - starting_row (int): The starting row index for the search.\n",
        "\n",
        "    Returns:\n",
        "    int or False: The index of the first non-zero value in the specified column, starting from the given row.\n",
        "                Returns False if no non-zero value is found.\n",
        "    \"\"\"\n",
        "    # Get the column array starting from the specified row\n",
        "    column_array = M[starting_row:,column]\n",
        "    for i, val in enumerate(column_array):\n",
        "        # Iterate over every value in the column array.\n",
        "        # To check for non-zero values, you must always use np.isclose instead of doing \"val == 0\".\n",
        "        if not np.isclose(val, 0, atol = 1e-5):\n",
        "            # If one non zero value is found, then adjust the index to match the correct index in the matrix and return it.\n",
        "            index = i + starting_row\n",
        "            return index\n",
        "    # If no non-zero value is found below it, return None.\n",
        "    return False"
      ]
    },
    {
      "cell_type": "markdown",
      "metadata": {
        "id": "PNXA-dwhbEli"
      },
      "source": [
        "Let's practice with this function. Consider the following matrix."
      ]
    },
    {
      "cell_type": "code",
      "execution_count": null,
      "metadata": {
        "id": "Ynx7MIK-bEli",
        "outputId": "daa68273-8c74-4a96-db4f-b55ad87fa037"
      },
      "outputs": [
        {
          "name": "stdout",
          "output_type": "stream",
          "text": [
            "[[ 0  5 -3  6  8]\n",
            " [ 0  6  3  8  1]\n",
            " [ 0  0  0  0  0]\n",
            " [ 0  0  0  0  7]\n",
            " [ 0  2  1  0  4]]\n"
          ]
        }
      ],
      "source": [
        "N = np.array([\n",
        "[0, 5, -3 ,6 ,8],\n",
        "[0, 6, 3, 8, 1],\n",
        "[0, 0, 0, 0, 0],\n",
        "[0, 0, 0 ,0 ,7],\n",
        "[0, 2, 1, 0, 4]\n",
        "]\n",
        ")\n",
        "print(N)"
      ]
    },
    {
      "cell_type": "markdown",
      "metadata": {
        "id": "51nJRw4GbElj"
      },
      "source": [
        "If you search for a value below the first column starting at the first row, the function should return False:"
      ]
    },
    {
      "cell_type": "code",
      "execution_count": null,
      "metadata": {
        "id": "P0mINJcQbElk",
        "outputId": "c013b90c-6517-40ca-d236-33cc2d1393ba"
      },
      "outputs": [
        {
          "name": "stdout",
          "output_type": "stream",
          "text": [
            "False\n"
          ]
        }
      ],
      "source": [
        "print(get_index_first_non_zero_value_from_column(N, column = 0, starting_row = 0))"
      ]
    },
    {
      "cell_type": "markdown",
      "metadata": {
        "id": "TKJ0cg5VbElk"
      },
      "source": [
        "Searching for the first non zero value in the last column starting from row with index 2, it should return 3 (index corresponding to the value 7)."
      ]
    },
    {
      "cell_type": "code",
      "execution_count": null,
      "metadata": {
        "id": "bhcsTW3PbEll",
        "outputId": "b6af58bb-729b-4bd9-823c-bf8d0cc9e715"
      },
      "outputs": [
        {
          "name": "stdout",
          "output_type": "stream",
          "text": [
            "3\n"
          ]
        }
      ],
      "source": [
        "print(get_index_first_non_zero_value_from_column(N, column = -1, starting_row = 2))"
      ]
    },
    {
      "cell_type": "markdown",
      "metadata": {
        "id": "W19neh5IbEll"
      },
      "source": [
        "<a name=\"3.3\"></a>\n",
        "### 3.3 - Find the first non zero element for any row\n",
        "\n",
        "This function aids in locating the pivot within a designated row of a matrix. It identifies the index of the first non-zero element in the desired row. If no non-zero value is present, it returns None."
      ]
    },
    {
      "cell_type": "code",
      "execution_count": null,
      "metadata": {
        "tags": [
          "graded"
        ],
        "id": "BFt5TNKcbElm"
      },
      "outputs": [],
      "source": [
        "def get_index_first_non_zero_value_from_row(M, row, augmented = False):\n",
        "    \"\"\"\n",
        "    Find the index of the first non-zero value in the specified row of the given matrix.\n",
        "\n",
        "    Parameters:\n",
        "    - matrix (numpy.array): The input matrix to search for non-zero values.\n",
        "    - row (int): The index of the row to search.\n",
        "    - augmented (bool): Pass this True if you are dealing with an augmented matrix,\n",
        "                        so it will ignore the constant values (the last column in the augmented matrix).\n",
        "\n",
        "    Returns:\n",
        "    int or False: The index of the first non-zero value in the specified row.\n",
        "                Returns False if no non-zero value is found.\n",
        "    \"\"\"\n",
        "\n",
        "    # Create a copy to avoid modifying the original matrix\n",
        "    M = M.copy()\n",
        "\n",
        "\n",
        "    # If it is an augmented matrix, then ignore the constant values\n",
        "    if augmented == True:\n",
        "        # Isolating the coefficient matrix (removing the constant terms)\n",
        "        M = M[:,:-1]\n",
        "\n",
        "    # Get the desired row\n",
        "    row_array = M[row]\n",
        "    for i, val in enumerate(row_array):\n",
        "        # If finds a non zero value, returns the index. Otherwise returns None.\n",
        "        if not np.isclose(val, 0, atol = 1e-5):\n",
        "            return i\n",
        "    return False"
      ]
    },
    {
      "cell_type": "markdown",
      "metadata": {
        "id": "m-xpQcRUbEly"
      },
      "source": [
        "Let's practice with the same matrix as before:"
      ]
    },
    {
      "cell_type": "code",
      "execution_count": null,
      "metadata": {
        "id": "Aa9RJdXibElz",
        "outputId": "af843320-860b-4732-ac82-48977068ed5b"
      },
      "outputs": [
        {
          "name": "stdout",
          "output_type": "stream",
          "text": [
            "[[ 0  5 -3  6  8]\n",
            " [ 0  6  3  8  1]\n",
            " [ 0  0  0  0  0]\n",
            " [ 0  0  0  0  7]\n",
            " [ 0  2  1  0  4]]\n"
          ]
        }
      ],
      "source": [
        "print(N)"
      ]
    },
    {
      "cell_type": "markdown",
      "metadata": {
        "id": "wX8RNcMIbElz"
      },
      "source": [
        "If not passing the argument `augmented`, then it is assumed the matrix is not augmented.\n",
        "\n",
        "Looking for the first non-zero index in row $2$ must return False whereas in row $3$, the value returned must be $4$ (the index for the value $7$ in that row)."
      ]
    },
    {
      "cell_type": "code",
      "execution_count": null,
      "metadata": {
        "id": "TikoINSGbEl0",
        "outputId": "e8178ddb-6cf0-407a-9e9d-1b246b53dd04"
      },
      "outputs": [
        {
          "name": "stdout",
          "output_type": "stream",
          "text": [
            "Output for row 2: False\n",
            "Output for row 3: 4\n"
          ]
        }
      ],
      "source": [
        "print(f'Output for row 2: {get_index_first_non_zero_value_from_row(N, 2)}')\n",
        "print(f'Output for row 3: {get_index_first_non_zero_value_from_row(N, 3)}')"
      ]
    },
    {
      "cell_type": "markdown",
      "metadata": {
        "id": "b5lGmMrObEl1"
      },
      "source": [
        "Now, let's pass the argument `augmented = True`. This will make the algorithm consider $N$ an augmented matrix, therefore the last column will be removed from consideration. Now, the output for row 3 (starting from 0) should be different, excluding the last column, the output should be `False` as well, since in the coefficient matrix (the matrix without the last column) there is no non-zero element:"
      ]
    },
    {
      "cell_type": "code",
      "execution_count": null,
      "metadata": {
        "id": "eFcR1sfTbEl1",
        "outputId": "7185ffe2-9d64-401c-c4f9-128478fefdc7"
      },
      "outputs": [
        {
          "name": "stdout",
          "output_type": "stream",
          "text": [
            "Output for row 3: False\n"
          ]
        }
      ],
      "source": [
        "print(f'Output for row 3: {get_index_first_non_zero_value_from_row(N, 3, augmented = True)}')"
      ]
    },
    {
      "cell_type": "markdown",
      "metadata": {
        "id": "tqWQMqKebEl1"
      },
      "source": [
        "<a name=\"3.5\"></a>\n",
        "### 3.4 - Constructing the Augmented Matrix\n",
        "\n",
        "This function constructs the augmented matrix by combining a square matrix of size $n \\times n$, representing $n$ equations with $n$ variables each, with an $n \\times 1$ matrix that denotes its constant values. The function concatenates both matrices to form the augmented matrix and returns the result."
      ]
    },
    {
      "cell_type": "code",
      "execution_count": null,
      "metadata": {
        "tags": [
          "graded"
        ],
        "id": "M7-YEuHYbEl2"
      },
      "outputs": [],
      "source": [
        "def augmented_matrix(A, B):\n",
        "    \"\"\"\n",
        "    Create an augmented matrix by horizontally stacking two matrices A and B.\n",
        "\n",
        "    Parameters:\n",
        "    - A (numpy.array): First matrix.\n",
        "    - B (numpy.array): Second matrix.\n",
        "\n",
        "    Returns:\n",
        "    - numpy.array: Augmented matrix obtained by horizontally stacking A and B.\n",
        "    \"\"\"\n",
        "    augmented_M = np.hstack((A,B))\n",
        "    return augmented_M"
      ]
    },
    {
      "cell_type": "code",
      "execution_count": null,
      "metadata": {
        "id": "QSS31inabEl2",
        "outputId": "891cb55c-fd4a-4aca-8c1d-a8abbc947455"
      },
      "outputs": [
        {
          "name": "stdout",
          "output_type": "stream",
          "text": [
            "[[1 2 3 1]\n",
            " [3 4 5 5]\n",
            " [4 5 6 7]]\n"
          ]
        }
      ],
      "source": [
        "A = np.array([[1,2,3], [3,4,5], [4,5,6]])\n",
        "B = np.array([[1], [5], [7]])\n",
        "\n",
        "print(augmented_matrix(A,B))"
      ]
    },
    {
      "cell_type": "markdown",
      "metadata": {
        "id": "ca1Sme8_bEmD"
      },
      "source": [
        "<a name=\"4\"></a>\n",
        "## 4 - Row echelon form\n",
        "\n",
        "<a name=\"4.1\"></a>\n",
        "\n",
        "<a name=\"4.1\"></a>\n",
        "### 4.1 - Row Echelon Form\n",
        "\n",
        "As discussed in the lectures, a matrix in row echelon form adheres to the following conditions:\n",
        "\n",
        "- Rows consisting entirely of zeroes should be positioned at the bottom.\n",
        "- Each non-zero row must have its left-most non-zero coefficient (termed as a **pivot**) located to the right of any row above it. Consequently, all elements below the pivot within the same column should be 0.\n",
        "\n",
        "\n",
        "**NOTE:**\n",
        "\n",
        "- The algorithm you will build will consider only non-singular system of equations, this implies that the coefficient matrix must have determinant different from $0$. Also, it implies one very important property: **the matrix's row echelon form will have all its pivots in the main diagonal**.This is an important property because it will simplify a lot the computation.\n",
        "\n",
        "This form ensures a structured arrangement facilitating subsequent steps in the Gaussian elimination process.\n",
        "\n",
        "\n",
        "Example of matrix **in row echelon form**\n",
        "\n",
        "$$M =\n",
        "\\begin{bmatrix}\n",
        "7 & 2 & 3 \\\\\n",
        "0 & 9 & 4 \\\\\n",
        "0 & 0 & 3 \\\\\n",
        "\\end{bmatrix}\n",
        "$$\n",
        "\n",
        "Examples of matrices that **are not in row echelon form**\n",
        "\n",
        "$$\n",
        "A = \\begin{bmatrix}\n",
        "1 & 2 & 2 \\\\\n",
        "0 & 5 & 3 \\\\\n",
        "1 & 0 & 8 \\\\\n",
        "\\end{bmatrix}\n",
        "$$\n",
        "\n",
        "$$B =\n",
        "\\begin{bmatrix}\n",
        "1 & 2 & 3 \\\\\n",
        "0 & 0 & 4 \\\\\n",
        "0 & 0 & 7 \\\\\n",
        "\\end{bmatrix}\n",
        "$$\n",
        "\n",
        "Matrix $A$ fails to satisfy the criteria for row echelon form as there exists a non-zero element below the first pivot (located in row 0). Similarly, matrix $B$ does not meet the requirements as the second pivot (in row 1 with a value of 4) has a non-zero element below it."
      ]
    },
    {
      "cell_type": "markdown",
      "metadata": {
        "id": "LF6LbQD5bEmE"
      },
      "source": [
        "<a name=\"4.2\"></a>\n",
        "### 4.2 - A worked example\n",
        "\n",
        "In this section, you'll revisit an example from the lecture to facilitate the implementation of an algorithm. If you feel confident in proceeding with the algorithm, you may skip this section.\n",
        "\n",
        "Consider matrix $M$ given by:\n",
        "\n",
        "$$\n",
        "M =\n",
        "\\begin{bmatrix}\n",
        "* & * & * & \\\\\n",
        "0 & \\text{pivot} & * \\\\\n",
        "0 & \\text{value} & *\n",
        "\\end{bmatrix}\n",
        "$$\n",
        "\n",
        "Here, the asterisk (*) denotes any number. To nullify the last row (row $2$), two steps are required:\n",
        "\n",
        "- Scale $R_1$ by the inverse of the pivot:\n",
        "\n",
        "$$\n",
        "\\text{Row 1} \\rightarrow \\frac{1}{\\text{pivot}} \\cdot \\text{Row }\n",
        "$$\n",
        "\n",
        "Resulting in the updated matrix with the pivot for row $1$ set to $1$:\n",
        "\n",
        "$$\n",
        "M =\n",
        "\\begin{bmatrix}\n",
        "* & * & * & \\\\\n",
        "0 & 1 & * \\\\\n",
        "0 & \\text{value} & *\n",
        "\\end{bmatrix}\n",
        "$$\n",
        "\n",
        "Next, to eliminate the value below the pivot in row $1$, apply the following formula:\n",
        "\n",
        "$$\n",
        "\\text{Row 2} \\rightarrow \\text{Row 2} - \\text{value}\\cdot \\text{Row 1}\n",
        "$$\n",
        "\n",
        "This transformation yields the modified matrix:\n",
        "\n",
        "$$\n",
        "M =\n",
        "\\begin{bmatrix}\n",
        "* & * & * & \\\\\n",
        "0 & 1 & * \\\\\n",
        "0 & 0 & *\n",
        "\\end{bmatrix}\n",
        "$$"
      ]
    },
    {
      "cell_type": "markdown",
      "metadata": {
        "id": "1ysH62b2bEmF"
      },
      "source": [
        "**Note that the square matrix $A$ needs to be in row-echelon form. However, every row operation conducted must also affect the augmented (constant) part. This ensures that you are effectively preserving the solutions for the entire system!**"
      ]
    },
    {
      "cell_type": "markdown",
      "metadata": {
        "id": "ZR7VWDXubEmG"
      },
      "source": [
        "Let's review the example covered in the lecture.\n",
        "\n",
        "$$\n",
        "\\begin{align*}\n",
        "2x_2 + x_3 &= 3 \\\\\n",
        "x_1 + x_2 +x_3 &= 6 \\\\\n",
        "x_1 + 2x_2 + 1x_3 &= 12\n",
        "\\end{align*}\n",
        "$$\n",
        "\n",
        "Consequently, the square matrix $A$ is formulated as:\n",
        "\n",
        "$$\n",
        "A =\n",
        "\\begin{bmatrix}\n",
        "0 & 2 & 1 & \\\\\n",
        "1 & 1 & 1 & \\\\\n",
        "1 & 2 & 1 &\n",
        "\\end{bmatrix}\n",
        "$$\n",
        "\n",
        "The column vector (a matrix of size $n \\times 1$) is represented by:\n",
        "\n",
        "$$\n",
        "B =\n",
        "\\begin{bmatrix}\n",
        "3\\\\\n",
        "6\\\\\n",
        "12\n",
        "\\end{bmatrix}\n",
        "$$\n",
        "\n",
        "Combining matrices $A$ and $B$ yields the augmented matrix $M$:\n",
        "\n",
        "$$\n",
        "M =\n",
        "\\begin{bmatrix}\n",
        "0 & 2 & 1 & | & 3 \\\\\n",
        "1 & 1 & 1 & | & 6 \\\\\n",
        "1 & 2 & 1 & | & 12\n",
        "\\end{bmatrix}\n",
        "$$"
      ]
    },
    {
      "cell_type": "markdown",
      "metadata": {
        "id": "JeSRErZSbEmG"
      },
      "source": [
        "**Step 1:**\n",
        "\n",
        "Commencing with row $0$: The initial candidate for the pivot is always the value in the main diagonal of the matrix. Denoting row $0$ as $R_0$:\n",
        "\n",
        "$$R_0= \\begin{bmatrix} 0 & 2 & 1 & | & 3 \\end{bmatrix}$$\n",
        "\n",
        "The value in the main diagonal is the element $M[0,0]$ (the first element of the first column). The first row can be accessed by performing $M[0]$, i.e., $M[0] = R_0$.\n",
        "\n",
        "The first row operation involves **scaling by the pivot's inverse**. Since the value in the main diagonal is $0$, necessitating a non-zero value for scaling by its inverse, you must switch rows in this case. Note that $R_1$ has a value different from $0$ in the required index. Consequently, switching rows $0$ and $1$:\n",
        "\n",
        "$$R_0 \\rightarrow R_1$$\n",
        "$$R_1 \\rightarrow R_0$$\n",
        "\n",
        "Resulting in the updated augmented matrix:\n",
        "\n",
        "$$\n",
        "M =\n",
        "\\begin{bmatrix}\n",
        "1 & 1 & 1 & | & 6 \\\\\n",
        "0 & 2 & 1 & | & 3 \\\\\n",
        "1 & 2 & 1 & | & 12\n",
        "\\end{bmatrix}\n",
        "$$\n",
        "\n",
        "Now, the pivot is already $1$, eliminating the need for row scaling. Following the formula:\n",
        "\n",
        "$$ R_1 \\rightarrow  R_1 - 0 \\cdot R_0 = R_1$$\n",
        "\n",
        "Therefore, the second row remains unchanged. Moving to the third row ($R_2$), the value in the augmented matrix below the pivot from $R_0$ is $M[2,0]$, which is $1$.\n",
        "\n",
        "$$R_2 = R_2 - 1 \\cdot R_0 = \\begin{bmatrix} 0 & 1 & 0 & | & 6  \\end{bmatrix}$$\n",
        "\n",
        "Resulting in the modified augmented matrix:\n",
        "\n",
        "$$\n",
        "M =\n",
        "\\begin{bmatrix}\n",
        "1 & 1 & 1 & | & 6 \\\\\n",
        "0 & 2 & 1 & | & 3 \\\\\n",
        "0 & 1 & 0 & | & 6\n",
        "\\end{bmatrix}\n",
        "$$\n",
        "\n",
        "Progressing to the second row ($R_1$), the value in the main diagonal is $2$, different from zero. Scaling it by $\\frac{1}{2}$:\n",
        "\n",
        "$$R_1 = \\frac{1}{2}R_1$$\n",
        "\n",
        "Resulting in the augmented matrix:\n",
        "\n",
        "$$\n",
        "M =\n",
        "\\begin{bmatrix}\n",
        "1 & 1 & 1 & | & 6 \\\\\n",
        "0 & 1 & \\frac{1}{2} & | & \\frac{3}{2} \\\\\n",
        "0 & 1 & 0 & | & 6\n",
        "\\end{bmatrix}\n",
        "$$\n",
        "\n",
        "Now, there's only one row below it for row replacement. The value just below the pivot is located at $M[2,1]$, which is $1$. Thus:\n",
        "\n",
        "$$R_2 = R_2 - 1 \\cdot R_1 = \\begin{bmatrix} \\phantom{-}0 & \\phantom{-}0 & -\\frac{1}{2} & | & \\phantom{-}\\frac{9}{2} \\end{bmatrix} $$\n",
        "\n",
        "Resulting in the augmented matrix:\n",
        "\n",
        "\n",
        "$$\n",
        "M =\n",
        "\\begin{bmatrix}\n",
        "\\phantom{-}1 & \\phantom{-}1 & \\phantom{-}1 & | & \\phantom{-}6 \\\\\n",
        "\\phantom{-}0 & \\phantom{-}1 & \\phantom{-}\\frac{1}{2} & | & \\phantom{-}\\frac{3}{2} \\\\\n",
        "\\phantom{-}0 & \\phantom{-}0 & -\\frac{1}{2} & | & \\phantom{-}\\frac{9}{2}\n",
        "\\end{bmatrix}\n",
        "$$\n",
        "\n",
        "Finally, normalizing the last row as\n",
        "\n",
        "$$R_2 = -2 \\cdot R_2$$\n",
        "\n",
        "The resulting matrix is\n",
        "\n",
        "$$\n",
        "M =\n",
        "\\begin{bmatrix}\n",
        "\\phantom{-}1 & \\phantom{-}1 & \\phantom{-}1 & | & \\phantom{-}6 \\\\\n",
        "\\phantom{-}0 & \\phantom{-}1 & \\phantom{-}\\frac{1}{2} & | & \\phantom{-}\\frac{3}{2} \\\\\n",
        "\\phantom{-}0 & \\phantom{-}0 & \\phantom{-}1 & | & -9\n",
        "\\end{bmatrix}\n",
        "$$\n",
        "\n",
        "Thus, the matrix is now in row echelon form with unitary pivots."
      ]
    },
    {
      "cell_type": "markdown",
      "metadata": {
        "id": "8fs3TIjQbEmH"
      },
      "source": [
        "Now you are ready to go! You will implement such algorithm in the following exercise.\n",
        "\n",
        "<a name=\"ex01\"></a>\n",
        "### Exercise 1\n",
        "\n",
        "This exercise involves implementing the elimination method to convert a matrix into row-echelon form. As discussed in lectures, the primary approach involves inspecting the values along the diagonal. If they equate to $0$, an attempt to swap rows should be made to obtain a non-zero value.\n"
      ]
    },
    {
      "cell_type": "code",
      "execution_count": null,
      "metadata": {
        "tags": [
          "graded"
        ],
        "id": "dsXlioNvbEmS"
      },
      "outputs": [],
      "source": [
        "# GRADED FUNCTION: row_echelon_form\n",
        "\n",
        "def row_echelon_form(A, B):\n",
        "    \"\"\"\n",
        "    Utilizes elementary row operations to transform a given set of matrices,\n",
        "    which represent the coefficients and constant terms of a linear system, into row echelon form.\n",
        "\n",
        "    Parameters:\n",
        "    - A (numpy.array): The input square matrix of coefficients.\n",
        "    - B (numpy.array): The input column matrix of constant terms\n",
        "\n",
        "    Returns:\n",
        "    numpy.array: A new augmented matrix in row echelon form with pivots as 1.\n",
        "    \"\"\"\n",
        "\n",
        "    # Check if matrix A determinant is not zero\n",
        "    det_A = np.linalg.det(A)\n",
        "\n",
        "    # Returns \"Singular system\" if determinant is zero\n",
        "    if np.isclose(det_A, 0) == True:\n",
        "        return 'Singular system'\n",
        "\n",
        "    # Make copies of the input matrices to avoid modifying the originals\n",
        "    A = A.copy()\n",
        "    B = B.copy()\n",
        "\n",
        "\n",
        "    # Convert matrices to float to prevent integer division\n",
        "    A = A.astype('float64')\n",
        "    B = B.astype('float64')\n",
        "\n",
        "    # Number of rows in the coefficient matrix\n",
        "    num_rows = len(A)\n",
        "\n",
        "    ### START CODE HERE ###\n",
        "\n",
        "    # Transform matrices A and B into the augmented matrix M\n",
        "    M = augmented_matrix(A,B)\n",
        "\n",
        "    # Iterate over the rows.\n",
        "    for row in range(num_rows):\n",
        "\n",
        "        # Access the matrix value by typing M[row, column]. Remember that the pivot candidate is always in the main diagonal, which has the index for row and column\n",
        "        pivot_candidate = M[row, row]\n",
        "\n",
        "        # If pivot_candidate is zero, it cannot be a pivot for this row.\n",
        "        # So check on the rows below pivot_candidate if there is a non-zero element in the same column\n",
        "\n",
        "        if np.isclose(pivot_candidate, 0) == True:\n",
        "\n",
        "            # Get the index of the first non-zero value below the pivot_candidate.\n",
        "            first_non_zero_value_below_pivot_candidate = get_index_first_non_zero_value_from_column(M, row, row + 1)\n",
        "\n",
        "            # Swap rows\n",
        "            M = swap_rows(M, row, first_non_zero_value_below_pivot_candidate)\n",
        "\n",
        "            # Get the pivot, which is in the main diagonal now\n",
        "            pivot = M[row, row]\n",
        "\n",
        "        # If pivot_candidate is already non-zero, then it is the pivot for this row\n",
        "        else:\n",
        "            pivot = pivot_candidate\n",
        "\n",
        "        # Divide the current row by the pivot, so the new pivot will be 1. You may use the formula current_row -> 1/pivot * current_row\n",
        "        M[row] = 1 / pivot * M[row]\n",
        "\n",
        "        # Perform row reduction for rows below the current row\n",
        "        for j in range(row + 1, num_rows):\n",
        "\n",
        "            # Get the value in the row below the pivot value. Because of the pivot is in the main diagonal, the values in row j must have the same column index as the pivot.\n",
        "            value_below_pivot = M[j, row]\n",
        "\n",
        "            # Perform row reduction using the formula:\n",
        "            # row_to_reduce -> row_to_reduce - value_below_pivot * pivot_row\n",
        "            M[j] = M[j] - value_below_pivot * M[row]\n",
        "\n",
        "    ### END CODE HERE ###\n",
        "\n",
        "    return M\n",
        ""
      ]
    },
    {
      "cell_type": "code",
      "execution_count": null,
      "metadata": {
        "id": "oOGSyRJHbEmU",
        "outputId": "13364132-54db-4939-ae6a-93cd3e6ea998"
      },
      "outputs": [
        {
          "data": {
            "text/plain": [
              "array([[1. , 2. , 3. , 1. ],\n",
              "       [0. , 1. , 0. , 2. ],\n",
              "       [0. , 0. , 1. , 0.8]])"
            ]
          },
          "execution_count": 81,
          "metadata": {},
          "output_type": "execute_result"
        }
      ],
      "source": [
        "A = np.array([[1,2,3],[0,1,0], [0,0,5]])\n",
        "B = np.array([[1], [2], [4]])\n",
        "row_echelon_form(A,B)"
      ]
    },
    {
      "cell_type": "code",
      "execution_count": null,
      "metadata": {
        "id": "0ulKuXRibEnH",
        "outputId": "fa35174d-251a-45ee-e86b-a39f66751c29"
      },
      "outputs": [
        {
          "name": "stdout",
          "output_type": "stream",
          "text": [
            "\u001b[92m All tests passed\n"
          ]
        }
      ],
      "source": [
        "w2_unittest.test_row_echelon_form(row_echelon_form)"
      ]
    },
    {
      "cell_type": "markdown",
      "metadata": {
        "id": "7I41HyxNbEnH"
      },
      "source": [
        "<a name=\"5\"></a>\n",
        "## 5 - Back substitution\n",
        "\n",
        "The final step of the algorithm involves back substitution, a crucial process in obtaining solutions for the linear system. As discussed in the lectures, this method initiates from the bottom and moves upwards. Utilizing elementary row operations, it aims to convert every element above the pivot into zeros, ending with a matrix in **reduced row echelon form**. The formula employed is:\n",
        "\n",
        "\n",
        "$$\\text{Row above} \\rightarrow \\text{Row above} - \\text{value} \\cdot \\text{Row pivot}$$\n",
        "\n",
        "In this equation, $\\text{value}$ denotes the value above the pivot, which initially equals 1. To illustrate this process, let's consider the matrix discussed previously:"
      ]
    },
    {
      "cell_type": "markdown",
      "metadata": {
        "id": "kZNICrAIbEnI"
      },
      "source": [
        "$$\n",
        "M =\n",
        "\\begin{bmatrix}\n",
        "\\phantom{-}1 & -1 & \\phantom{-}\\frac{1}{2} & | & \\phantom{-}\\frac{1}{2} \\\\\n",
        "\\phantom{-}0 & \\phantom{-}1 & \\phantom{-}1 & | & -1 \\\\\n",
        "\\phantom{-}0 & \\phantom{-}0 & \\phantom{-}1 & | & -1\n",
        "\\end{bmatrix}\n",
        "$$\n",
        "\n",
        "Starting from bottom to top:\n",
        "\n",
        "- $R_2$:\n",
        "\n",
        "- -  $R_1 = R_1 - 1 \\cdot R_2 = \\begin{bmatrix} 0 & 1 & 0 & | & 0 \\end{bmatrix}$\n",
        "- - $R_0 = R_0 - \\frac{1}{2} \\cdot R_1 = \\begin{bmatrix} 1 & -\\frac{1}{2} & 0 & | & 1 \\end{bmatrix}$\n",
        "\n",
        "The resulting matrix is then\n",
        "\n",
        "$$\n",
        "M =\n",
        "\\begin{bmatrix}\n",
        "\\phantom{-}1 & -\\frac{1}{2} & \\phantom{-}0 & | & \\phantom{-}1  \\\\\n",
        "\\phantom{-}0 & \\phantom{-}1 & \\phantom{-}0 & | & \\phantom{-}0 \\\\\n",
        "\\phantom{-}0 & \\phantom{-}0 & \\phantom{-}1 & | & -1\n",
        "\\end{bmatrix}\n",
        "$$\n",
        "\n",
        "Moving to $R_1$:\n",
        "\n",
        "- $R_1$:\n",
        "\n",
        "- - $R_0 = R_0 - \\left(-\\frac{1}{2} R_1 \\right) = \\begin{bmatrix} 1 & 0 & 0 & | & 1 \\end{bmatrix}$\n",
        "\n",
        "And the final matrix is\n",
        "\n",
        "$$\n",
        "M =\n",
        "\\begin{bmatrix}\n",
        "\\phantom{-}1 & \\phantom{-}0 & \\phantom{-}0 & | & \\phantom{-}1  \\\\\n",
        "\\phantom{-}0 & \\phantom{-}1 & \\phantom{-}0 & | & \\phantom{-}0 \\\\\n",
        "\\phantom{-}0 & \\phantom{-}0 & \\phantom{-}1 & | & -1\n",
        "\\end{bmatrix}\n",
        "$$"
      ]
    },
    {
      "cell_type": "markdown",
      "metadata": {
        "id": "eFbremB0bEnJ"
      },
      "source": [
        "Note that after back substitution, the solution is just the values in the augmented column! In this case,\n",
        "\n",
        "$$x_0 = 1 \\\\ x_1 =0\\\\ x_2 = -1"
      ]
    },
    {
      "cell_type": "markdown",
      "metadata": {
        "id": "SA1eR0pJbEnK"
      },
      "source": [
        "<a name=\"ex02\"></a>\n",
        "### Exercise 2\n",
        "\n",
        "In this exercise you will implement a function to perform back substitution in an **augmented matrix with unique solution and in row echelon form with unitary pivots**"
      ]
    },
    {
      "cell_type": "code",
      "execution_count": null,
      "metadata": {
        "tags": [
          "graded"
        ],
        "id": "c89gtFRQbEnV"
      },
      "outputs": [],
      "source": [
        "# GRADED FUNCTION: back_substitution\n",
        "\n",
        "def back_substitution(M):\n",
        "    \"\"\"\n",
        "    Perform back substitution on an augmented matrix (with unique solution) in reduced row echelon form to find the solution to the linear system.\n",
        "\n",
        "    Parameters:\n",
        "    - M (numpy.array): The augmented matrix in row echelon form with unitary pivots (n x n+1).\n",
        "\n",
        "    Returns:\n",
        "    numpy.array: The solution vector of the linear system.\n",
        "    \"\"\"\n",
        "\n",
        "    # Make a copy of the input matrix to avoid modifying the original\n",
        "    M = M.copy()\n",
        "\n",
        "    # Get the number of rows (and columns) in the matrix of coefficients\n",
        "    num_rows = len(M)\n",
        "\n",
        "    ### START CODE HERE ####\n",
        "\n",
        "    # Iterate from bottom to top\n",
        "    for row in range(num_rows):\n",
        "        # Get the substitution row. Remember now you must proceed from bottom to top, so you must start at the last row in the matrix.\n",
        "        # The last row in matrix is in the index num_rows - 1, then you need to subtract the current index.\n",
        "\n",
        "        substitution_row = num_rows - 1 - row\n",
        "\n",
        "        # Iterate over the rows above the substitution_row\n",
        "        for j in range(row + 1, num_rows):\n",
        "\n",
        "            # Get the row to be reduced. The indexing here is similar as above, with the row variable replaced by the j variable.\n",
        "            row_to_reduce = M[num_rows - 1 - j]\n",
        "\n",
        "            # Get the index of the first non-zero element in the substitution row. This values does not depend on j!\n",
        "            index = get_index_first_non_zero_value_from_row(M, substitution_row)\n",
        "\n",
        "            # Get the value of the element at the found index\n",
        "            value = row_to_reduce[index]\n",
        "\n",
        "            # Perform the back substitution step using the formula row_to_reduce = row_to_reduce - value * substitution row\n",
        "            row_to_reduce = row_to_reduce - value * M[substitution_row]\n",
        "\n",
        "            # Replace the updated row in the matrix, be careful with indexing!\n",
        "            M[num_rows - 1 - j] = row_to_reduce\n",
        "\n",
        "    ### END CODE HERE ####\n",
        "\n",
        "     # Extract the solution from the last column\n",
        "    solution = M[:,-1]\n",
        "\n",
        "    return solution"
      ]
    },
    {
      "cell_type": "code",
      "execution_count": null,
      "metadata": {
        "id": "3FZImXZlbEnW",
        "outputId": "33f96e05-2c31-4219-da9c-4d846805641c"
      },
      "outputs": [
        {
          "name": "stdout",
          "output_type": "stream",
          "text": [
            "\u001b[92m All tests passed\n"
          ]
        }
      ],
      "source": [
        "w2_unittest.test_back_substitution(back_substitution)"
      ]
    },
    {
      "cell_type": "markdown",
      "metadata": {
        "id": "8eK-puf_bEnX"
      },
      "source": [
        "<a name=\"6\"></a>\n",
        "## 6 - The Gaussian Elimination\n",
        "\n",
        "<a name=\"6.1\"></a>\n",
        "### 6.1 - Bringing it all together\n",
        "\n",
        "Your task now is to integrate all the steps achieved thus far. Start with a square matrix $A$ of size $ n \\times n$ and a column matrix $B$ of size $n \\times 1$ and transform the augmented matrix $[A | B]$ into reduced row echelon form. Subsequently, verify the existence of solutions. If solutions are present, proceed to perform back substitution to obtain the values. In scenarios where there are no solutions or an infinite number of solutions, handle and indicate these outcomes accordingly."
      ]
    },
    {
      "cell_type": "markdown",
      "metadata": {
        "id": "Lp7S7bHIbEnX"
      },
      "source": [
        "<a name=\"ex03\"></a>\n",
        "### Exercise 3\n",
        "\n",
        "In this exercise you will combine every function you just wrote to finish the Gaussian Elimination algorithm."
      ]
    },
    {
      "cell_type": "code",
      "execution_count": null,
      "metadata": {
        "tags": [
          "graded"
        ],
        "id": "_t6Zn_18bEnY"
      },
      "outputs": [],
      "source": [
        "# GRADED FUNCTION: gaussian_elimination\n",
        "\n",
        "def gaussian_elimination(A, B):\n",
        "    \"\"\"\n",
        "    Solve a linear system represented by an augmented matrix using the Gaussian elimination method.\n",
        "\n",
        "    Parameters:\n",
        "    - A (numpy.array): Square matrix of size n x n representing the coefficients of the linear system\n",
        "    - B (numpy.array): Column matrix of size 1 x n representing the constant terms.\n",
        "\n",
        "    Returns:\n",
        "    numpy.array or str: The solution vector if a unique solution exists, or a string indicating the type of solution.\n",
        "    \"\"\"\n",
        "\n",
        "    ### START CODE HERE ###\n",
        "\n",
        "    # Get the matrix in row echelon form\n",
        "    row_echelon_M = row_echelon_form(A, B)\n",
        "\n",
        "    # If the system is non-singular, then perform back substitution to get the result.\n",
        "    # Since the function row_echelon_form returns a string if there is no solution, let's check for that.\n",
        "    # The function isinstance checks if the first argument has the type as the second argument, returning True if it does and False otherwise.\n",
        "\n",
        "    if not isinstance(row_echelon_M, str):\n",
        "        solution = back_substitution(row_echelon_M)\n",
        "\n",
        "    ### END SOLUTION HERE ###\n",
        "\n",
        "    return solution\n",
        ""
      ]
    },
    {
      "cell_type": "code",
      "execution_count": null,
      "metadata": {
        "id": "YvqRqdPkbEnY",
        "outputId": "f2d86681-ff66-484c-ef79-ec25de0fe7c7"
      },
      "outputs": [
        {
          "name": "stdout",
          "output_type": "stream",
          "text": [
            "\u001b[92m All tests passed\n"
          ]
        }
      ],
      "source": [
        "w2_unittest.test_gaussian_elimination(gaussian_elimination)"
      ]
    },
    {
      "cell_type": "markdown",
      "metadata": {
        "id": "SBjUw4JAbEnZ"
      },
      "source": [
        "<a name=\"7\"></a>\n",
        "## 7 - Test with any system of equations!\n",
        "\n",
        "The code below will allow you to write any equation in the format it is given below (any unknown lower case variables are accepted, in any order) and transform it in its respective augmented matrix so you can solve it using the functions you just wrote in this assignment!\n",
        "\n",
        "You just need to change the equations variable, always keeping * to indicate product between unknowns and variables and one equation in each line!"
      ]
    },
    {
      "cell_type": "code",
      "execution_count": null,
      "metadata": {
        "id": "ypjVCZ4lbEnZ",
        "outputId": "bdaf90c5-662b-418a-faef-8b8aa0621f4f"
      },
      "outputs": [
        {
          "ename": "IndexError",
          "evalue": "arrays used as indices must be of integer (or boolean) type",
          "output_type": "error",
          "traceback": [
            "\u001b[1;31m---------------------------------------------------------------------------\u001b[0m",
            "\u001b[1;31mIndexError\u001b[0m                                Traceback (most recent call last)",
            "Cell \u001b[1;32mIn[69], line 15\u001b[0m\n\u001b[0;32m      7\u001b[0m B \u001b[38;5;241m=\u001b[39m np\u001b[38;5;241m.\u001b[39marray([\n\u001b[0;32m      8\u001b[0m             [\u001b[38;5;241m1\u001b[39m],\n\u001b[0;32m      9\u001b[0m             [\u001b[38;5;241m-\u001b[39m\u001b[38;5;241m10\u001b[39m],\n\u001b[0;32m     10\u001b[0m             [\u001b[38;5;241m8\u001b[39m],\n\u001b[0;32m     11\u001b[0m             [\u001b[38;5;241m9\u001b[39m]\n\u001b[0;32m     12\u001b[0m             ])\n\u001b[0;32m     14\u001b[0m variables \u001b[38;5;241m=\u001b[39m \u001b[38;5;124m'\u001b[39m\u001b[38;5;124mx y w z\u001b[39m\u001b[38;5;124m'\u001b[39m\n\u001b[1;32m---> 15\u001b[0m sols \u001b[38;5;241m=\u001b[39m \u001b[43mgaussian_elimination\u001b[49m\u001b[43m(\u001b[49m\u001b[43mA\u001b[49m\u001b[43m,\u001b[49m\u001b[43m \u001b[49m\u001b[43mB\u001b[49m\u001b[43m)\u001b[49m\n\u001b[0;32m     18\u001b[0m \u001b[38;5;28;01mif\u001b[39;00m \u001b[38;5;129;01mnot\u001b[39;00m \u001b[38;5;28misinstance\u001b[39m(sols, \u001b[38;5;28mstr\u001b[39m):\n\u001b[0;32m     19\u001b[0m     \u001b[38;5;28;01mfor\u001b[39;00m variable, solution \u001b[38;5;129;01min\u001b[39;00m \u001b[38;5;28mzip\u001b[39m(variables\u001b[38;5;241m.\u001b[39msplit(\u001b[38;5;124m'\u001b[39m\u001b[38;5;124m \u001b[39m\u001b[38;5;124m'\u001b[39m),sols):\n",
            "Cell \u001b[1;32mIn[66], line 25\u001b[0m, in \u001b[0;36mgaussian_elimination\u001b[1;34m(A, B)\u001b[0m\n\u001b[0;32m     20\u001b[0m \u001b[38;5;66;03m# If the system is non-singular, then perform back substitution to get the result. \u001b[39;00m\n\u001b[0;32m     21\u001b[0m \u001b[38;5;66;03m# Since the function row_echelon_form returns a string if there is no solution, let's check for that.\u001b[39;00m\n\u001b[0;32m     22\u001b[0m \u001b[38;5;66;03m# The function isinstance checks if the first argument has the type as the second argument, returning True if it does and False otherwise.\u001b[39;00m\n\u001b[0;32m     24\u001b[0m \u001b[38;5;28;01mif\u001b[39;00m \u001b[38;5;129;01mnot\u001b[39;00m \u001b[38;5;28misinstance\u001b[39m(row_echelon_M, \u001b[38;5;28mstr\u001b[39m): \n\u001b[1;32m---> 25\u001b[0m     solution \u001b[38;5;241m=\u001b[39m \u001b[43mback_substitution\u001b[49m\u001b[43m(\u001b[49m\u001b[43mrow_echelon_M\u001b[49m\u001b[43m)\u001b[49m\n\u001b[0;32m     27\u001b[0m \u001b[38;5;66;03m### END SOLUTION HERE ###\u001b[39;00m\n\u001b[0;32m     29\u001b[0m \u001b[38;5;28;01mreturn\u001b[39;00m solution\n",
            "Cell \u001b[1;32mIn[64], line 36\u001b[0m, in \u001b[0;36mback_substitution\u001b[1;34m(M)\u001b[0m\n\u001b[0;32m     33\u001b[0m row_to_reduce \u001b[38;5;241m=\u001b[39m M[num_rows \u001b[38;5;241m-\u001b[39m \u001b[38;5;241m1\u001b[39m \u001b[38;5;241m-\u001b[39m j]\n\u001b[0;32m     35\u001b[0m \u001b[38;5;66;03m# Get the index of the first non-zero element in the substitution row. This values does not depend on j!\u001b[39;00m\n\u001b[1;32m---> 36\u001b[0m index \u001b[38;5;241m=\u001b[39m \u001b[43mget_index_first_non_zero_value_from_row\u001b[49m\u001b[43m(\u001b[49m\u001b[43mM\u001b[49m\u001b[43m,\u001b[49m\u001b[43m \u001b[49m\u001b[43msubstitution_row\u001b[49m\u001b[43m)\u001b[49m\n\u001b[0;32m     38\u001b[0m \u001b[38;5;66;03m# Get the value of the element at the found index\u001b[39;00m\n\u001b[0;32m     39\u001b[0m value \u001b[38;5;241m=\u001b[39m row_to_reduce[index]\n",
            "Cell \u001b[1;32mIn[10], line 26\u001b[0m, in \u001b[0;36mget_index_first_non_zero_value_from_row\u001b[1;34m(M, row, augmented)\u001b[0m\n\u001b[0;32m     23\u001b[0m     M \u001b[38;5;241m=\u001b[39m M[:,:\u001b[38;5;241m-\u001b[39m\u001b[38;5;241m1\u001b[39m]\n\u001b[0;32m     25\u001b[0m \u001b[38;5;66;03m# Get the desired row\u001b[39;00m\n\u001b[1;32m---> 26\u001b[0m row_array \u001b[38;5;241m=\u001b[39m \u001b[43mM\u001b[49m\u001b[43m[\u001b[49m\u001b[43mrow\u001b[49m\u001b[43m]\u001b[49m\n\u001b[0;32m     27\u001b[0m \u001b[38;5;28;01mfor\u001b[39;00m i, val \u001b[38;5;129;01min\u001b[39;00m \u001b[38;5;28menumerate\u001b[39m(row_array):\n\u001b[0;32m     28\u001b[0m     \u001b[38;5;66;03m# If finds a non zero value, returns the index. Otherwise returns None.\u001b[39;00m\n\u001b[0;32m     29\u001b[0m     \u001b[38;5;28;01mif\u001b[39;00m \u001b[38;5;129;01mnot\u001b[39;00m np\u001b[38;5;241m.\u001b[39misclose(val, \u001b[38;5;241m0\u001b[39m, atol \u001b[38;5;241m=\u001b[39m \u001b[38;5;241m1e-5\u001b[39m):\n",
            "\u001b[1;31mIndexError\u001b[0m: arrays used as indices must be of integer (or boolean) type"
          ]
        }
      ],
      "source": [
        "A = np.array([\n",
        "            [3, 6, 6, 8],\n",
        "            [5, 3, 6, 0],\n",
        "            [0, 4,-5, 8],\n",
        "            [0, 0, 4, 8]\n",
        "            ])\n",
        "B = np.array([\n",
        "            [1],\n",
        "            [-10],\n",
        "            [8],\n",
        "            [9]\n",
        "            ])\n",
        "\n",
        "variables = 'x y w z'\n",
        "sols = gaussian_elimination(A, B)\n",
        "\n",
        "\n",
        "if not isinstance(sols, str):\n",
        "    for variable, solution in zip(variables.split(' '),sols):\n",
        "        print(f\"{variable} = {solution:.4f}\")\n",
        "else:\n",
        "    print(sols)"
      ]
    },
    {
      "cell_type": "markdown",
      "metadata": {
        "id": "FJkbds4BbEna"
      },
      "source": [
        "The value for each variables should be\n",
        "\n",
        "x = -1.5414  \n",
        "y = -0.5223  \n",
        "w = -0.1210  \n",
        "z = 1.1855  \n",
        "\n",
        "If your output is looking like this, then you've made it! You finished the assignment to do Gaussian Elimination with python!"
      ]
    },
    {
      "cell_type": "markdown",
      "metadata": {
        "id": "7lWEGHSPbEnc"
      },
      "source": [
        "<p style=\"font-size: 100px;\"><b>Joining and Visualizing Data<b></p>"
      ]
    },
    {
      "cell_type": "markdown",
      "metadata": {
        "id": "7VsTbJyubEnc"
      },
      "source": [
        "# Import Libraries"
      ]
    },
    {
      "cell_type": "code",
      "execution_count": null,
      "metadata": {
        "id": "Wpa-b0YNbEnd"
      },
      "outputs": [],
      "source": [
        "# Just run this cell, no need to edit\n",
        "\n",
        "import pandas as pd\n",
        "import numpy as np\n",
        "import seaborn as sns\n",
        "import matplotlib.pyplot as plt\n",
        "from matplotlib import ticker\n",
        "from matplotlib.ticker import FuncFormatter\n",
        "\n",
        "# make sure we can see needed columns and rows\n",
        "pd.set_option(\"display.max_rows\", 600)\n",
        "pd.set_option(\"display.max_columns\", 500)"
      ]
    },
    {
      "cell_type": "markdown",
      "metadata": {
        "id": "XUplEWoLbEnd"
      },
      "source": [
        "# Read Dataset"
      ]
    },
    {
      "cell_type": "code",
      "execution_count": null,
      "metadata": {
        "id": "0ywy8nSRbEne"
      },
      "outputs": [],
      "source": [
        "orders = pd.read_csv(\"olist_orders_dataset.csv\")\n",
        "order_items = pd.read_csv(\"olist_order_items_dataset.csv\")\n",
        "payments = pd.read_csv(\"olist_order_payments_dataset.csv\")\n",
        "product_details = pd.read_csv(\"olist_products_dataset.csv\")\n",
        "product_translate = pd.read_csv(\"product_category_name_translation.csv\")"
      ]
    },
    {
      "cell_type": "code",
      "execution_count": null,
      "metadata": {
        "id": "RgzcJb8RbEnp"
      },
      "outputs": [],
      "source": [
        "# Just run this cell, no need to edit\n",
        "orders['order_purchase_timestamp'] = pd.to_datetime(orders['order_purchase_timestamp'])\n",
        "orders['order_delivered_customer_date'] = pd.to_datetime(orders['order_delivered_customer_date'])\n",
        "orders['order_estimated_delivery_date'] = pd.to_datetime(orders['order_estimated_delivery_date'])\n",
        "\n",
        "orders['year'] = orders['order_purchase_timestamp'].dt.year\n",
        "orders['month'] = orders['order_purchase_timestamp'].dt.month\n",
        "orders['month_name'] = orders['order_purchase_timestamp'].dt.strftime('%B')\n",
        "orders['day'] = orders['order_purchase_timestamp'].dt.day\n",
        "orders['day_of_week'] = orders['order_purchase_timestamp'].dt.dayofweek\n",
        "orders['day_name'] = orders['order_purchase_timestamp'].dt.strftime('%A')\n",
        "orders['hour'] = orders['order_purchase_timestamp'].dt.hour\n",
        "orders['timeday'] = pd.cut(orders['order_purchase_timestamp'].dt.hour, bins=[0, 6, 12, 18, 24], labels=['Dawn', 'Morning', 'Afternoon', 'Night'])\n",
        "\n",
        "order_items['total_price'] = order_items['price'] + order_items['freight_value']\n",
        "\n",
        "products = product_details.merge(product_translate, on='product_category_name', how='left')\n",
        "products['product_category_name_english'] = np.where(products[\"product_category_name\"] == 'portateis_cozinha_e_preparadores_de_alimentos','kitchen_portable_and_food_preparers', products['product_category_name_english'])\n",
        "products['product_category_name_english'] = np.where(products[\"product_category_name\"] == 'pc_gamer', 'pc_gaming', products['product_category_name_english'])\n",
        "products['product_category_name'].fillna('not_defined_product', inplace= True)\n",
        "products['product_category_name_english'].fillna('not_defined_product', inplace= True)\n",
        "products.fillna(0, inplace=True)\n",
        "products.rename(columns={'product_category_name_english': 'product_name'}, inplace=True)"
      ]
    },
    {
      "cell_type": "markdown",
      "metadata": {
        "id": "tN4E0RavbEnq"
      },
      "source": [
        "## 1. How is the trend of number of orders based on the payment type?"
      ]
    },
    {
      "cell_type": "code",
      "execution_count": null,
      "metadata": {
        "id": "6ZKsxnVHbEnr",
        "outputId": "9ca8cddd-db79-4075-c3d6-b1ce86507644"
      },
      "outputs": [
        {
          "data": {
            "text/html": [
              "<div>\n",
              "<style scoped>\n",
              "    .dataframe tbody tr th:only-of-type {\n",
              "        vertical-align: middle;\n",
              "    }\n",
              "\n",
              "    .dataframe tbody tr th {\n",
              "        vertical-align: top;\n",
              "    }\n",
              "\n",
              "    .dataframe thead th {\n",
              "        text-align: right;\n",
              "    }\n",
              "</style>\n",
              "<table border=\"1\" class=\"dataframe\">\n",
              "  <thead>\n",
              "    <tr style=\"text-align: right;\">\n",
              "      <th></th>\n",
              "      <th>order_id</th>\n",
              "      <th>customer_id</th>\n",
              "      <th>order_status</th>\n",
              "      <th>order_purchase_timestamp</th>\n",
              "      <th>order_approved_at</th>\n",
              "      <th>order_delivered_carrier_date</th>\n",
              "      <th>order_delivered_customer_date</th>\n",
              "      <th>order_estimated_delivery_date</th>\n",
              "      <th>year</th>\n",
              "      <th>month</th>\n",
              "      <th>month_name</th>\n",
              "      <th>day</th>\n",
              "      <th>day_of_week</th>\n",
              "      <th>day_name</th>\n",
              "      <th>hour</th>\n",
              "      <th>timeday</th>\n",
              "      <th>payment_sequential</th>\n",
              "      <th>payment_type</th>\n",
              "      <th>payment_installments</th>\n",
              "      <th>payment_value</th>\n",
              "    </tr>\n",
              "  </thead>\n",
              "  <tbody>\n",
              "    <tr>\n",
              "      <th>0</th>\n",
              "      <td>e481f51cbdc54678b7cc49136f2d6af7</td>\n",
              "      <td>9ef432eb6251297304e76186b10a928d</td>\n",
              "      <td>delivered</td>\n",
              "      <td>2017-10-02 10:56:33</td>\n",
              "      <td>2017-10-02 11:07:15</td>\n",
              "      <td>2017-10-04 19:55:00</td>\n",
              "      <td>2017-10-10 21:25:13</td>\n",
              "      <td>2017-10-18</td>\n",
              "      <td>2017</td>\n",
              "      <td>10</td>\n",
              "      <td>October</td>\n",
              "      <td>2</td>\n",
              "      <td>0</td>\n",
              "      <td>Monday</td>\n",
              "      <td>10</td>\n",
              "      <td>Morning</td>\n",
              "      <td>1.0</td>\n",
              "      <td>credit_card</td>\n",
              "      <td>1.0</td>\n",
              "      <td>18.12</td>\n",
              "    </tr>\n",
              "    <tr>\n",
              "      <th>1</th>\n",
              "      <td>e481f51cbdc54678b7cc49136f2d6af7</td>\n",
              "      <td>9ef432eb6251297304e76186b10a928d</td>\n",
              "      <td>delivered</td>\n",
              "      <td>2017-10-02 10:56:33</td>\n",
              "      <td>2017-10-02 11:07:15</td>\n",
              "      <td>2017-10-04 19:55:00</td>\n",
              "      <td>2017-10-10 21:25:13</td>\n",
              "      <td>2017-10-18</td>\n",
              "      <td>2017</td>\n",
              "      <td>10</td>\n",
              "      <td>October</td>\n",
              "      <td>2</td>\n",
              "      <td>0</td>\n",
              "      <td>Monday</td>\n",
              "      <td>10</td>\n",
              "      <td>Morning</td>\n",
              "      <td>3.0</td>\n",
              "      <td>voucher</td>\n",
              "      <td>1.0</td>\n",
              "      <td>2.00</td>\n",
              "    </tr>\n",
              "    <tr>\n",
              "      <th>2</th>\n",
              "      <td>e481f51cbdc54678b7cc49136f2d6af7</td>\n",
              "      <td>9ef432eb6251297304e76186b10a928d</td>\n",
              "      <td>delivered</td>\n",
              "      <td>2017-10-02 10:56:33</td>\n",
              "      <td>2017-10-02 11:07:15</td>\n",
              "      <td>2017-10-04 19:55:00</td>\n",
              "      <td>2017-10-10 21:25:13</td>\n",
              "      <td>2017-10-18</td>\n",
              "      <td>2017</td>\n",
              "      <td>10</td>\n",
              "      <td>October</td>\n",
              "      <td>2</td>\n",
              "      <td>0</td>\n",
              "      <td>Monday</td>\n",
              "      <td>10</td>\n",
              "      <td>Morning</td>\n",
              "      <td>2.0</td>\n",
              "      <td>voucher</td>\n",
              "      <td>1.0</td>\n",
              "      <td>18.59</td>\n",
              "    </tr>\n",
              "  </tbody>\n",
              "</table>\n",
              "</div>"
            ],
            "text/plain": [
              "                           order_id                       customer_id  \\\n",
              "0  e481f51cbdc54678b7cc49136f2d6af7  9ef432eb6251297304e76186b10a928d   \n",
              "1  e481f51cbdc54678b7cc49136f2d6af7  9ef432eb6251297304e76186b10a928d   \n",
              "2  e481f51cbdc54678b7cc49136f2d6af7  9ef432eb6251297304e76186b10a928d   \n",
              "\n",
              "  order_status order_purchase_timestamp    order_approved_at  \\\n",
              "0    delivered      2017-10-02 10:56:33  2017-10-02 11:07:15   \n",
              "1    delivered      2017-10-02 10:56:33  2017-10-02 11:07:15   \n",
              "2    delivered      2017-10-02 10:56:33  2017-10-02 11:07:15   \n",
              "\n",
              "  order_delivered_carrier_date order_delivered_customer_date  \\\n",
              "0          2017-10-04 19:55:00           2017-10-10 21:25:13   \n",
              "1          2017-10-04 19:55:00           2017-10-10 21:25:13   \n",
              "2          2017-10-04 19:55:00           2017-10-10 21:25:13   \n",
              "\n",
              "  order_estimated_delivery_date  year  month month_name  day  day_of_week  \\\n",
              "0                    2017-10-18  2017     10    October    2            0   \n",
              "1                    2017-10-18  2017     10    October    2            0   \n",
              "2                    2017-10-18  2017     10    October    2            0   \n",
              "\n",
              "  day_name  hour  timeday  payment_sequential payment_type  \\\n",
              "0   Monday    10  Morning                 1.0  credit_card   \n",
              "1   Monday    10  Morning                 3.0      voucher   \n",
              "2   Monday    10  Morning                 2.0      voucher   \n",
              "\n",
              "   payment_installments  payment_value  \n",
              "0                   1.0          18.12  \n",
              "1                   1.0           2.00  \n",
              "2                   1.0          18.59  "
            ]
          },
          "execution_count": 30,
          "metadata": {},
          "output_type": "execute_result"
        }
      ],
      "source": [
        "# Merge the 'orders' DataFrame with the 'payments' DataFrame on the 'order_id' column, include all records from 'orders' and matching records from 'payments'.\n",
        "order_pay = orders.merge(payments, on='order_id', how='left')\n",
        "\n",
        "# Filter the resulting DataFrame where 'order_status' is not 'canceled' and  the 'order_delivered_customer_date' is not null\n",
        "order_pay = order_pay[(order_pay['order_status'] != 'canceled') & (order_pay['order_delivered_customer_date'].notnull())]\n",
        "order_pay.head(3)"
      ]
    },
    {
      "cell_type": "markdown",
      "metadata": {
        "id": "Tk8ERyuebEn1"
      },
      "source": [
        "<div style=\"height: 300px; overflow-y: scroll;\">\n",
        "<style scoped>\n",
        "    .dataframe tbody tr th:only-of-type {\n",
        "        vertical-align: middle;\n",
        "    }\n",
        "    p {\n",
        "      font-size: 20px;\n",
        "    }\n",
        "    .dataframe tbody tr th {\n",
        "        vertical-align: top;\n",
        "    }\n",
        "    .dataframe thead th {\n",
        "        text-align: right;\n",
        "    }\n",
        "</style>\n",
        "<p><b>Expected Output:</b></p>\n",
        "<table border=\"1\" class=\"dataframe\">\n",
        "  <thead>\n",
        "    <tr style=\"text-align: right;\">\n",
        "      <th></th>\n",
        "      <th>order_id</th>\n",
        "      <th>customer_id</th>\n",
        "      <th>order_status</th>\n",
        "      <th>order_purchase_timestamp</th>\n",
        "      <th>order_approved_at</th>\n",
        "      <th>order_delivered_carrier_date</th>\n",
        "      <th>order_delivered_customer_date</th>\n",
        "      <th>order_estimated_delivery_date</th>\n",
        "      <th>year</th>\n",
        "      <th>month</th>\n",
        "      <th>month_name</th>\n",
        "      <th>day</th>\n",
        "      <th>day_of_week</th>\n",
        "      <th>day_name</th>\n",
        "      <th>hour</th>\n",
        "      <th>timeday</th>\n",
        "      <th>payment_sequential</th>\n",
        "      <th>payment_type</th>\n",
        "      <th>payment_installments</th>\n",
        "      <th>payment_value</th>\n",
        "    </tr>\n",
        "  </thead>\n",
        "  <tbody>\n",
        "    <tr>\n",
        "      <th>0</th>\n",
        "      <td>e481f51cbdc54678b7cc49136f2d6af7</td>\n",
        "      <td>9ef432eb6251297304e76186b10a928d</td>\n",
        "      <td>delivered</td>\n",
        "      <td>2017-10-02 10:56:33</td>\n",
        "      <td>2017-10-02 11:07:15</td>\n",
        "      <td>2017-10-04 19:55:00</td>\n",
        "      <td>2017-10-10 21:25:13</td>\n",
        "      <td>2017-10-18</td>\n",
        "      <td>2017</td>\n",
        "      <td>10</td>\n",
        "      <td>October</td>\n",
        "      <td>2</td>\n",
        "      <td>0</td>\n",
        "      <td>Monday</td>\n",
        "      <td>10</td>\n",
        "      <td>Morning</td>\n",
        "      <td>1.0</td>\n",
        "      <td>credit_card</td>\n",
        "      <td>1.0</td>\n",
        "      <td>18.12</td>\n",
        "    </tr>\n",
        "    <tr>\n",
        "      <th>1</th>\n",
        "      <td>e481f51cbdc54678b7cc49136f2d6af7</td>\n",
        "      <td>9ef432eb6251297304e76186b10a928d</td>\n",
        "      <td>delivered</td>\n",
        "      <td>2017-10-02 10:56:33</td>\n",
        "      <td>2017-10-02 11:07:15</td>\n",
        "      <td>2017-10-04 19:55:00</td>\n",
        "      <td>2017-10-10 21:25:13</td>\n",
        "      <td>2017-10-18</td>\n",
        "      <td>2017</td>\n",
        "      <td>10</td>\n",
        "      <td>October</td>\n",
        "      <td>2</td>\n",
        "      <td>0</td>\n",
        "      <td>Monday</td>\n",
        "      <td>10</td>\n",
        "      <td>Morning</td>\n",
        "      <td>3.0</td>\n",
        "      <td>voucher</td>\n",
        "      <td>1.0</td>\n",
        "      <td>2.00</td>\n",
        "    </tr>\n",
        "    <tr>\n",
        "      <th>2</th>\n",
        "      <td>e481f51cbdc54678b7cc49136f2d6af7</td>\n",
        "      <td>9ef432eb6251297304e76186b10a928d</td>\n",
        "      <td>delivered</td>\n",
        "      <td>2017-10-02 10:56:33</td>\n",
        "      <td>2017-10-02 11:07:15</td>\n",
        "      <td>2017-10-04 19:55:00</td>\n",
        "      <td>2017-10-10 21:25:13</td>\n",
        "      <td>2017-10-18</td>\n",
        "      <td>2017</td>\n",
        "      <td>10</td>\n",
        "      <td>October</td>\n",
        "      <td>2</td>\n",
        "      <td>0</td>\n",
        "      <td>Monday</td>\n",
        "      <td>10</td>\n",
        "      <td>Morning</td>\n",
        "      <td>2.0</td>\n",
        "      <td>voucher</td>\n",
        "      <td>1.0</td>\n",
        "      <td>18.59</td>\n",
        "    </tr>\n",
        "  </tbody>\n",
        "</table>\n",
        "</div>"
      ]
    },
    {
      "cell_type": "code",
      "execution_count": null,
      "metadata": {
        "id": "4JZpbSX4bEn4",
        "outputId": "9db2eeaa-349d-4321-f437-8a0353fd396c"
      },
      "outputs": [
        {
          "name": "stdout",
          "output_type": "stream",
          "text": [
            "<class 'pandas.core.frame.DataFrame'>\n",
            "Int64Index: 100749 entries, 0 to 103886\n",
            "Data columns (total 20 columns):\n",
            " #   Column                         Non-Null Count   Dtype         \n",
            "---  ------                         --------------   -----         \n",
            " 0   order_id                       100749 non-null  object        \n",
            " 1   customer_id                    100749 non-null  object        \n",
            " 2   order_status                   100749 non-null  object        \n",
            " 3   order_purchase_timestamp       100749 non-null  datetime64[ns]\n",
            " 4   order_approved_at              100735 non-null  object        \n",
            " 5   order_delivered_carrier_date   100748 non-null  object        \n",
            " 6   order_delivered_customer_date  100749 non-null  datetime64[ns]\n",
            " 7   order_estimated_delivery_date  100749 non-null  datetime64[ns]\n",
            " 8   year                           100749 non-null  int64         \n",
            " 9   month                          100749 non-null  int64         \n",
            " 10  month_name                     100749 non-null  object        \n",
            " 11  day                            100749 non-null  int64         \n",
            " 12  day_of_week                    100749 non-null  int64         \n",
            " 13  day_name                       100749 non-null  object        \n",
            " 14  hour                           100749 non-null  int64         \n",
            " 15  timeday                        98285 non-null   category      \n",
            " 16  payment_sequential             100748 non-null  float64       \n",
            " 17  payment_type                   100748 non-null  object        \n",
            " 18  payment_installments           100748 non-null  float64       \n",
            " 19  payment_value                  100748 non-null  float64       \n",
            "dtypes: category(1), datetime64[ns](3), float64(3), int64(5), object(8)\n",
            "memory usage: 15.5+ MB\n"
          ]
        }
      ],
      "source": [
        "order_pay.info()"
      ]
    },
    {
      "cell_type": "code",
      "execution_count": null,
      "metadata": {
        "id": "E5SXFNBNbEn5",
        "outputId": "3aaaea3b-783a-46d8-8760-954301283e8d"
      },
      "outputs": [
        {
          "data": {
            "text/plain": [
              "0         2017\n",
              "1         2017\n",
              "2         2017\n",
              "3         2018\n",
              "4         2018\n",
              "          ... \n",
              "103882    2017\n",
              "103883    2018\n",
              "103884    2017\n",
              "103885    2018\n",
              "103886    2018\n",
              "Name: year, Length: 100749, dtype: int64"
            ]
          },
          "execution_count": 35,
          "metadata": {},
          "output_type": "execute_result"
        }
      ],
      "source": [
        "order_pay.year"
      ]
    },
    {
      "cell_type": "code",
      "execution_count": null,
      "metadata": {
        "id": "hNLe0v4bbEn7",
        "outputId": "2aa536af-6537-46bb-b7b2-555928850971"
      },
      "outputs": [
        {
          "data": {
            "text/html": [
              "<div>\n",
              "<style scoped>\n",
              "    .dataframe tbody tr th:only-of-type {\n",
              "        vertical-align: middle;\n",
              "    }\n",
              "\n",
              "    .dataframe tbody tr th {\n",
              "        vertical-align: top;\n",
              "    }\n",
              "\n",
              "    .dataframe thead th {\n",
              "        text-align: right;\n",
              "    }\n",
              "</style>\n",
              "<table border=\"1\" class=\"dataframe\">\n",
              "  <thead>\n",
              "    <tr style=\"text-align: right;\">\n",
              "      <th></th>\n",
              "      <th>year</th>\n",
              "      <th>month</th>\n",
              "      <th>payment_type</th>\n",
              "      <th>order_id</th>\n",
              "      <th>year_month</th>\n",
              "    </tr>\n",
              "  </thead>\n",
              "  <tbody>\n",
              "    <tr>\n",
              "      <th>0</th>\n",
              "      <td>2016</td>\n",
              "      <td>10</td>\n",
              "      <td>boleto</td>\n",
              "      <td>51</td>\n",
              "      <td>2016-10</td>\n",
              "    </tr>\n",
              "    <tr>\n",
              "      <th>1</th>\n",
              "      <td>2016</td>\n",
              "      <td>10</td>\n",
              "      <td>credit_card</td>\n",
              "      <td>208</td>\n",
              "      <td>2016-10</td>\n",
              "    </tr>\n",
              "    <tr>\n",
              "      <th>2</th>\n",
              "      <td>2016</td>\n",
              "      <td>10</td>\n",
              "      <td>debit_card</td>\n",
              "      <td>2</td>\n",
              "      <td>2016-10</td>\n",
              "    </tr>\n",
              "  </tbody>\n",
              "</table>\n",
              "</div>"
            ],
            "text/plain": [
              "   year  month payment_type  order_id year_month\n",
              "0  2016     10       boleto        51    2016-10\n",
              "1  2016     10  credit_card       208    2016-10\n",
              "2  2016     10   debit_card         2    2016-10"
            ]
          },
          "execution_count": 39,
          "metadata": {},
          "output_type": "execute_result"
        }
      ],
      "source": [
        "# Group the 'order_pay' DataFrame by 'year', 'month', and 'payment_type', calculating the number of unique 'order_id's for each group, and then reset the index.\n",
        "#groupred_payment = order_pay.groupby(['year', 'month', 'payment_type']).agg({'order_id':'nunique'}).reset_index()\n",
        "grouped_payment = order_pay.groupby(['year', 'month', 'payment_type'])['order_id'].nunique().reset_index()\n",
        "\n",
        "# Create a new column 'year_month' by concatenating 'year' and 'month' columns as strings.\n",
        "grouped_payment['year_month'] = grouped_payment['year'].astype(str) + '-' + grouped_payment['month'].astype(str)\n",
        "\n",
        "grouped_payment.head(3)"
      ]
    },
    {
      "cell_type": "markdown",
      "metadata": {
        "id": "JMFniy9ubEn7"
      },
      "source": [
        "<div>\n",
        "<style scoped>\n",
        "    .dataframe tbody tr th:only-of-type {\n",
        "        vertical-align: middle;\n",
        "    }\n",
        "    p {\n",
        "      font-size: 20px;\n",
        "    }\n",
        "    .dataframe tbody tr th {\n",
        "        vertical-align: top;\n",
        "    }\n",
        "    .dataframe thead th {\n",
        "        text-align: right;\n",
        "    }\n",
        "</style>\n",
        "<p><b>Expected output:</b></p>\n",
        "<table border=\"1\" class=\"dataframe\">\n",
        "  <thead>\n",
        "    <tr style=\"text-align: right;\">\n",
        "      <th></th>\n",
        "      <th>year</th>\n",
        "      <th>month</th>\n",
        "      <th>payment_type</th>\n",
        "      <th>order_id</th>\n",
        "      <th>year_month</th>\n",
        "    </tr>\n",
        "  </thead>\n",
        "  <tbody>\n",
        "    <tr>\n",
        "      <th>0</th>\n",
        "      <td>2016</td>\n",
        "      <td>10</td>\n",
        "      <td>boleto</td>\n",
        "      <td>51</td>\n",
        "      <td>2016-10</td>\n",
        "    </tr>\n",
        "    <tr>\n",
        "      <th>1</th>\n",
        "      <td>2016</td>\n",
        "      <td>10</td>\n",
        "      <td>credit_card</td>\n",
        "      <td>208</td>\n",
        "      <td>2016-10</td>\n",
        "    </tr>\n",
        "    <tr>\n",
        "      <th>2</th>\n",
        "      <td>2016</td>\n",
        "      <td>10</td>\n",
        "      <td>debit_card</td>\n",
        "      <td>2</td>\n",
        "      <td>2016-10</td>\n",
        "    </tr>\n",
        "  </tbody>\n",
        "</table>\n",
        "</div>"
      ]
    },
    {
      "cell_type": "code",
      "execution_count": null,
      "metadata": {
        "id": "PNPKoFOHbEn-",
        "outputId": "59f73672-d35a-404a-a7c6-8343c51a3d97"
      },
      "outputs": [
        {
          "data": {
            "text/plain": [
              "Text(0.5, 1.0, 'Number of Orders by Payment Type Over Time')"
            ]
          },
          "execution_count": 47,
          "metadata": {},
          "output_type": "execute_result"
        },
        {
          "data": {
            "image/png": "[encoded data removed]",
            "text/plain": [
              "<Figure size 1500x800 with 1 Axes>"
            ]
          },
          "metadata": {},
          "output_type": "display_data"
        }
      ],
      "source": [
        "# Plot the trend\n",
        "plt.figure(figsize=(15, 8))\n",
        "sns.lineplot(data=grouped_payment, x='year_month', y='order_id', hue='payment_type', marker='o')\n",
        "plt.title('Number of Orders by Payment Type Over Time')\n",
        "# Hint: You can use the grouped data in previous cell. Number of orders could be obtained from order_id"
      ]
    },
    {
      "cell_type": "markdown",
      "metadata": {
        "id": "cf9jZWMNbEn_"
      },
      "source": [
        "Interpretation:  \n",
        "Credit card adalah metode pembayaran yang memiliki trend paling stabil dan paling banyak digunakan oleh pelanggan. Sedangkan metode pembayaran lainnya memiliki trend yang fluktuatif."
      ]
    },
    {
      "cell_type": "markdown",
      "metadata": {
        "id": "5Fs2MUVtbEoA"
      },
      "source": [
        "## 2. What is the top 10 products with the highest revenue?"
      ]
    },
    {
      "cell_type": "code",
      "execution_count": null,
      "metadata": {
        "id": "Ll-lshZKbEoB"
      },
      "outputs": [],
      "source": [
        "# Just run this cell, no need to edit\n",
        "ordered_products = order_items.merge(products, on='product_id', how='left')"
      ]
    },
    {
      "cell_type": "code",
      "execution_count": null,
      "metadata": {
        "id": "wcahfOOTbEoB",
        "outputId": "639102d8-aa74-4d93-ee8e-ecac42f82dca"
      },
      "outputs": [
        {
          "data": {
            "text/html": [
              "<div>\n",
              "<style scoped>\n",
              "    .dataframe tbody tr th:only-of-type {\n",
              "        vertical-align: middle;\n",
              "    }\n",
              "\n",
              "    .dataframe tbody tr th {\n",
              "        vertical-align: top;\n",
              "    }\n",
              "\n",
              "    .dataframe thead th {\n",
              "        text-align: right;\n",
              "    }\n",
              "</style>\n",
              "<table border=\"1\" class=\"dataframe\">\n",
              "  <thead>\n",
              "    <tr style=\"text-align: right;\">\n",
              "      <th></th>\n",
              "      <th>order_id</th>\n",
              "      <th>customer_id</th>\n",
              "      <th>order_status</th>\n",
              "      <th>order_purchase_timestamp</th>\n",
              "      <th>order_approved_at</th>\n",
              "      <th>order_delivered_carrier_date</th>\n",
              "      <th>order_delivered_customer_date</th>\n",
              "      <th>order_estimated_delivery_date</th>\n",
              "      <th>year</th>\n",
              "      <th>month</th>\n",
              "      <th>month_name</th>\n",
              "      <th>day</th>\n",
              "      <th>day_of_week</th>\n",
              "      <th>day_name</th>\n",
              "      <th>hour</th>\n",
              "      <th>timeday</th>\n",
              "      <th>payment_sequential</th>\n",
              "      <th>payment_type</th>\n",
              "      <th>payment_installments</th>\n",
              "      <th>payment_value</th>\n",
              "      <th>order_item_id</th>\n",
              "      <th>product_id</th>\n",
              "      <th>seller_id</th>\n",
              "      <th>shipping_limit_date</th>\n",
              "      <th>price</th>\n",
              "      <th>freight_value</th>\n",
              "      <th>total_price</th>\n",
              "      <th>product_category_name</th>\n",
              "      <th>product_name_lenght</th>\n",
              "      <th>product_description_lenght</th>\n",
              "      <th>product_photos_qty</th>\n",
              "      <th>product_weight_g</th>\n",
              "      <th>product_length_cm</th>\n",
              "      <th>product_height_cm</th>\n",
              "      <th>product_width_cm</th>\n",
              "      <th>product_name</th>\n",
              "    </tr>\n",
              "  </thead>\n",
              "  <tbody>\n",
              "    <tr>\n",
              "      <th>0</th>\n",
              "      <td>e481f51cbdc54678b7cc49136f2d6af7</td>\n",
              "      <td>9ef432eb6251297304e76186b10a928d</td>\n",
              "      <td>delivered</td>\n",
              "      <td>2017-10-02 10:56:33</td>\n",
              "      <td>2017-10-02 11:07:15</td>\n",
              "      <td>2017-10-04 19:55:00</td>\n",
              "      <td>2017-10-10 21:25:13</td>\n",
              "      <td>2017-10-18</td>\n",
              "      <td>2017</td>\n",
              "      <td>10</td>\n",
              "      <td>October</td>\n",
              "      <td>2</td>\n",
              "      <td>0</td>\n",
              "      <td>Monday</td>\n",
              "      <td>10</td>\n",
              "      <td>Morning</td>\n",
              "      <td>1.0</td>\n",
              "      <td>credit_card</td>\n",
              "      <td>1.0</td>\n",
              "      <td>18.12</td>\n",
              "      <td>1</td>\n",
              "      <td>87285b34884572647811a353c7ac498a</td>\n",
              "      <td>3504c0cb71d7fa48d967e0e4c94d59d9</td>\n",
              "      <td>2017-10-06 11:07:15</td>\n",
              "      <td>29.99</td>\n",
              "      <td>8.72</td>\n",
              "      <td>38.71</td>\n",
              "      <td>utilidades_domesticas</td>\n",
              "      <td>40.0</td>\n",
              "      <td>268.0</td>\n",
              "      <td>4.0</td>\n",
              "      <td>500.0</td>\n",
              "      <td>19.0</td>\n",
              "      <td>8.0</td>\n",
              "      <td>13.0</td>\n",
              "      <td>housewares</td>\n",
              "    </tr>\n",
              "    <tr>\n",
              "      <th>1</th>\n",
              "      <td>e481f51cbdc54678b7cc49136f2d6af7</td>\n",
              "      <td>9ef432eb6251297304e76186b10a928d</td>\n",
              "      <td>delivered</td>\n",
              "      <td>2017-10-02 10:56:33</td>\n",
              "      <td>2017-10-02 11:07:15</td>\n",
              "      <td>2017-10-04 19:55:00</td>\n",
              "      <td>2017-10-10 21:25:13</td>\n",
              "      <td>2017-10-18</td>\n",
              "      <td>2017</td>\n",
              "      <td>10</td>\n",
              "      <td>October</td>\n",
              "      <td>2</td>\n",
              "      <td>0</td>\n",
              "      <td>Monday</td>\n",
              "      <td>10</td>\n",
              "      <td>Morning</td>\n",
              "      <td>3.0</td>\n",
              "      <td>voucher</td>\n",
              "      <td>1.0</td>\n",
              "      <td>2.00</td>\n",
              "      <td>1</td>\n",
              "      <td>87285b34884572647811a353c7ac498a</td>\n",
              "      <td>3504c0cb71d7fa48d967e0e4c94d59d9</td>\n",
              "      <td>2017-10-06 11:07:15</td>\n",
              "      <td>29.99</td>\n",
              "      <td>8.72</td>\n",
              "      <td>38.71</td>\n",
              "      <td>utilidades_domesticas</td>\n",
              "      <td>40.0</td>\n",
              "      <td>268.0</td>\n",
              "      <td>4.0</td>\n",
              "      <td>500.0</td>\n",
              "      <td>19.0</td>\n",
              "      <td>8.0</td>\n",
              "      <td>13.0</td>\n",
              "      <td>housewares</td>\n",
              "    </tr>\n",
              "    <tr>\n",
              "      <th>2</th>\n",
              "      <td>e481f51cbdc54678b7cc49136f2d6af7</td>\n",
              "      <td>9ef432eb6251297304e76186b10a928d</td>\n",
              "      <td>delivered</td>\n",
              "      <td>2017-10-02 10:56:33</td>\n",
              "      <td>2017-10-02 11:07:15</td>\n",
              "      <td>2017-10-04 19:55:00</td>\n",
              "      <td>2017-10-10 21:25:13</td>\n",
              "      <td>2017-10-18</td>\n",
              "      <td>2017</td>\n",
              "      <td>10</td>\n",
              "      <td>October</td>\n",
              "      <td>2</td>\n",
              "      <td>0</td>\n",
              "      <td>Monday</td>\n",
              "      <td>10</td>\n",
              "      <td>Morning</td>\n",
              "      <td>2.0</td>\n",
              "      <td>voucher</td>\n",
              "      <td>1.0</td>\n",
              "      <td>18.59</td>\n",
              "      <td>1</td>\n",
              "      <td>87285b34884572647811a353c7ac498a</td>\n",
              "      <td>3504c0cb71d7fa48d967e0e4c94d59d9</td>\n",
              "      <td>2017-10-06 11:07:15</td>\n",
              "      <td>29.99</td>\n",
              "      <td>8.72</td>\n",
              "      <td>38.71</td>\n",
              "      <td>utilidades_domesticas</td>\n",
              "      <td>40.0</td>\n",
              "      <td>268.0</td>\n",
              "      <td>4.0</td>\n",
              "      <td>500.0</td>\n",
              "      <td>19.0</td>\n",
              "      <td>8.0</td>\n",
              "      <td>13.0</td>\n",
              "      <td>housewares</td>\n",
              "    </tr>\n",
              "  </tbody>\n",
              "</table>\n",
              "</div>"
            ],
            "text/plain": [
              "                           order_id                       customer_id  \\\n",
              "0  e481f51cbdc54678b7cc49136f2d6af7  9ef432eb6251297304e76186b10a928d   \n",
              "1  e481f51cbdc54678b7cc49136f2d6af7  9ef432eb6251297304e76186b10a928d   \n",
              "2  e481f51cbdc54678b7cc49136f2d6af7  9ef432eb6251297304e76186b10a928d   \n",
              "\n",
              "  order_status order_purchase_timestamp    order_approved_at  \\\n",
              "0    delivered      2017-10-02 10:56:33  2017-10-02 11:07:15   \n",
              "1    delivered      2017-10-02 10:56:33  2017-10-02 11:07:15   \n",
              "2    delivered      2017-10-02 10:56:33  2017-10-02 11:07:15   \n",
              "\n",
              "  order_delivered_carrier_date order_delivered_customer_date  \\\n",
              "0          2017-10-04 19:55:00           2017-10-10 21:25:13   \n",
              "1          2017-10-04 19:55:00           2017-10-10 21:25:13   \n",
              "2          2017-10-04 19:55:00           2017-10-10 21:25:13   \n",
              "\n",
              "  order_estimated_delivery_date  year  month month_name  day  day_of_week  \\\n",
              "0                    2017-10-18  2017     10    October    2            0   \n",
              "1                    2017-10-18  2017     10    October    2            0   \n",
              "2                    2017-10-18  2017     10    October    2            0   \n",
              "\n",
              "  day_name  hour  timeday  payment_sequential payment_type  \\\n",
              "0   Monday    10  Morning                 1.0  credit_card   \n",
              "1   Monday    10  Morning                 3.0      voucher   \n",
              "2   Monday    10  Morning                 2.0      voucher   \n",
              "\n",
              "   payment_installments  payment_value  order_item_id  \\\n",
              "0                   1.0          18.12              1   \n",
              "1                   1.0           2.00              1   \n",
              "2                   1.0          18.59              1   \n",
              "\n",
              "                         product_id                         seller_id  \\\n",
              "0  87285b34884572647811a353c7ac498a  3504c0cb71d7fa48d967e0e4c94d59d9   \n",
              "1  87285b34884572647811a353c7ac498a  3504c0cb71d7fa48d967e0e4c94d59d9   \n",
              "2  87285b34884572647811a353c7ac498a  3504c0cb71d7fa48d967e0e4c94d59d9   \n",
              "\n",
              "   shipping_limit_date  price  freight_value  total_price  \\\n",
              "0  2017-10-06 11:07:15  29.99           8.72        38.71   \n",
              "1  2017-10-06 11:07:15  29.99           8.72        38.71   \n",
              "2  2017-10-06 11:07:15  29.99           8.72        38.71   \n",
              "\n",
              "   product_category_name  product_name_lenght  product_description_lenght  \\\n",
              "0  utilidades_domesticas                 40.0                       268.0   \n",
              "1  utilidades_domesticas                 40.0                       268.0   \n",
              "2  utilidades_domesticas                 40.0                       268.0   \n",
              "\n",
              "   product_photos_qty  product_weight_g  product_length_cm  product_height_cm  \\\n",
              "0                 4.0             500.0               19.0                8.0   \n",
              "1                 4.0             500.0               19.0                8.0   \n",
              "2                 4.0             500.0               19.0                8.0   \n",
              "\n",
              "   product_width_cm product_name  \n",
              "0              13.0   housewares  \n",
              "1              13.0   housewares  \n",
              "2              13.0   housewares  "
            ]
          },
          "execution_count": 42,
          "metadata": {},
          "output_type": "execute_result"
        }
      ],
      "source": [
        "# Merge the 'order_pay' DataFrame with the 'ordered_products' DataFrame on the 'order_id' including all records from 'order_pay'.\n",
        "order_df = order_pay.merge(ordered_products, on='order_id', how='left')\n",
        "order_df.head(3)"
      ]
    },
    {
      "cell_type": "markdown",
      "metadata": {
        "id": "R_padeYNbEoC"
      },
      "source": [
        "<div style=\"height: 300px; overflow-y: scroll;\">\n",
        "<style scoped>\n",
        "    .dataframe tbody tr th:only-of-type {\n",
        "        vertical-align: middle;\n",
        "    }\n",
        "    p {\n",
        "      font-size: 20px;\n",
        "    }\n",
        "    .dataframe tbody tr th {\n",
        "        vertical-align: top;\n",
        "    }\n",
        "    .dataframe thead th {\n",
        "        text-align: right;\n",
        "    }\n",
        "</style>\n",
        "<p><b>Expected Output:</b></p>\n",
        "<table border=\"1\" class=\"dataframe\">\n",
        "  <thead>\n",
        "    <tr style=\"text-align: right;\">\n",
        "      <th></th>\n",
        "      <th>order_id</th>\n",
        "      <th>customer_id</th>\n",
        "      <th>order_status</th>\n",
        "      <th>order_purchase_timestamp</th>\n",
        "      <th>order_approved_at</th>\n",
        "      <th>order_delivered_carrier_date</th>\n",
        "      <th>order_delivered_customer_date</th>\n",
        "      <th>order_estimated_delivery_date</th>\n",
        "      <th>year</th>\n",
        "      <th>month</th>\n",
        "      <th>month_name</th>\n",
        "      <th>day</th>\n",
        "      <th>day_of_week</th>\n",
        "      <th>day_name</th>\n",
        "      <th>hour</th>\n",
        "      <th>timeday</th>\n",
        "      <th>payment_sequential</th>\n",
        "      <th>payment_type</th>\n",
        "      <th>payment_installments</th>\n",
        "      <th>payment_value</th>\n",
        "      <th>order_item_id</th>\n",
        "      <th>product_id</th>\n",
        "      <th>seller_id</th>\n",
        "      <th>shipping_limit_date</th>\n",
        "      <th>price</th>\n",
        "      <th>freight_value</th>\n",
        "      <th>total_price</th>\n",
        "      <th>product_category_name</th>\n",
        "      <th>product_name_lenght</th>\n",
        "      <th>product_description_lenght</th>\n",
        "      <th>product_photos_qty</th>\n",
        "      <th>product_weight_g</th>\n",
        "      <th>product_length_cm</th>\n",
        "      <th>product_height_cm</th>\n",
        "      <th>product_width_cm</th>\n",
        "      <th>product_name</th>\n",
        "    </tr>\n",
        "  </thead>\n",
        "  <tbody>\n",
        "    <tr>\n",
        "      <th>0</th>\n",
        "      <td>e481f51cbdc54678b7cc49136f2d6af7</td>\n",
        "      <td>9ef432eb6251297304e76186b10a928d</td>\n",
        "      <td>delivered</td>\n",
        "      <td>2017-10-02 10:56:33</td>\n",
        "      <td>2017-10-02 11:07:15</td>\n",
        "      <td>2017-10-04 19:55:00</td>\n",
        "      <td>2017-10-10 21:25:13</td>\n",
        "      <td>2017-10-18</td>\n",
        "      <td>2017</td>\n",
        "      <td>10</td>\n",
        "      <td>October</td>\n",
        "      <td>2</td>\n",
        "      <td>0</td>\n",
        "      <td>Monday</td>\n",
        "      <td>10</td>\n",
        "      <td>Morning</td>\n",
        "      <td>1.0</td>\n",
        "      <td>credit_card</td>\n",
        "      <td>1.0</td>\n",
        "      <td>18.12</td>\n",
        "      <td>1</td>\n",
        "      <td>87285b34884572647811a353c7ac498a</td>\n",
        "      <td>3504c0cb71d7fa48d967e0e4c94d59d9</td>\n",
        "      <td>2017-10-06 11:07:15</td>\n",
        "      <td>29.99</td>\n",
        "      <td>8.72</td>\n",
        "      <td>38.71</td>\n",
        "      <td>utilidades_domesticas</td>\n",
        "      <td>40.0</td>\n",
        "      <td>268.0</td>\n",
        "      <td>4.0</td>\n",
        "      <td>500.0</td>\n",
        "      <td>19.0</td>\n",
        "      <td>8.0</td>\n",
        "      <td>13.0</td>\n",
        "      <td>housewares</td>\n",
        "    </tr>\n",
        "    <tr>\n",
        "      <th>1</th>\n",
        "      <td>e481f51cbdc54678b7cc49136f2d6af7</td>\n",
        "      <td>9ef432eb6251297304e76186b10a928d</td>\n",
        "      <td>delivered</td>\n",
        "      <td>2017-10-02 10:56:33</td>\n",
        "      <td>2017-10-02 11:07:15</td>\n",
        "      <td>2017-10-04 19:55:00</td>\n",
        "      <td>2017-10-10 21:25:13</td>\n",
        "      <td>2017-10-18</td>\n",
        "      <td>2017</td>\n",
        "      <td>10</td>\n",
        "      <td>October</td>\n",
        "      <td>2</td>\n",
        "      <td>0</td>\n",
        "      <td>Monday</td>\n",
        "      <td>10</td>\n",
        "      <td>Morning</td>\n",
        "      <td>3.0</td>\n",
        "      <td>voucher</td>\n",
        "      <td>1.0</td>\n",
        "      <td>2.00</td>\n",
        "      <td>1</td>\n",
        "      <td>87285b34884572647811a353c7ac498a</td>\n",
        "      <td>3504c0cb71d7fa48d967e0e4c94d59d9</td>\n",
        "      <td>2017-10-06 11:07:15</td>\n",
        "      <td>29.99</td>\n",
        "      <td>8.72</td>\n",
        "      <td>38.71</td>\n",
        "      <td>utilidades_domesticas</td>\n",
        "      <td>40.0</td>\n",
        "      <td>268.0</td>\n",
        "      <td>4.0</td>\n",
        "      <td>500.0</td>\n",
        "      <td>19.0</td>\n",
        "      <td>8.0</td>\n",
        "      <td>13.0</td>\n",
        "      <td>housewares</td>\n",
        "    </tr>\n",
        "    <tr>\n",
        "      <th>2</th>\n",
        "      <td>e481f51cbdc54678b7cc49136f2d6af7</td>\n",
        "      <td>9ef432eb6251297304e76186b10a928d</td>\n",
        "      <td>delivered</td>\n",
        "      <td>2017-10-02 10:56:33</td>\n",
        "      <td>2017-10-02 11:07:15</td>\n",
        "      <td>2017-10-04 19:55:00</td>\n",
        "      <td>2017-10-10 21:25:13</td>\n",
        "      <td>2017-10-18</td>\n",
        "      <td>2017</td>\n",
        "      <td>10</td>\n",
        "      <td>October</td>\n",
        "      <td>2</td>\n",
        "      <td>0</td>\n",
        "      <td>Monday</td>\n",
        "      <td>10</td>\n",
        "      <td>Morning</td>\n",
        "      <td>2.0</td>\n",
        "      <td>voucher</td>\n",
        "      <td>1.0</td>\n",
        "      <td>18.59</td>\n",
        "      <td>1</td>\n",
        "      <td>87285b34884572647811a353c7ac498a</td>\n",
        "      <td>3504c0cb71d7fa48d967e0e4c94d59d9</td>\n",
        "      <td>2017-10-06 11:07:15</td>\n",
        "      <td>29.99</td>\n",
        "      <td>8.72</td>\n",
        "      <td>38.71</td>\n",
        "      <td>utilidades_domesticas</td>\n",
        "      <td>40.0</td>\n",
        "      <td>268.0</td>\n",
        "      <td>4.0</td>\n",
        "      <td>500.0</td>\n",
        "      <td>19.0</td>\n",
        "      <td>8.0</td>\n",
        "      <td>13.0</td>\n",
        "      <td>housewares</td>\n",
        "    </tr>\n",
        "  </tbody>\n",
        "</table>\n",
        "</div>"
      ]
    },
    {
      "cell_type": "code",
      "execution_count": null,
      "metadata": {
        "id": "cLuwAh9EbEoD",
        "outputId": "cd0fe39c-dcd5-42b0-e1c6-c4d84c5e7182"
      },
      "outputs": [
        {
          "data": {
            "text/html": [
              "<div>\n",
              "<style scoped>\n",
              "    .dataframe tbody tr th:only-of-type {\n",
              "        vertical-align: middle;\n",
              "    }\n",
              "\n",
              "    .dataframe tbody tr th {\n",
              "        vertical-align: top;\n",
              "    }\n",
              "\n",
              "    .dataframe thead th {\n",
              "        text-align: right;\n",
              "    }\n",
              "</style>\n",
              "<table border=\"1\" class=\"dataframe\">\n",
              "  <thead>\n",
              "    <tr style=\"text-align: right;\">\n",
              "      <th></th>\n",
              "      <th>revenue</th>\n",
              "    </tr>\n",
              "    <tr>\n",
              "      <th>product_name</th>\n",
              "      <th></th>\n",
              "    </tr>\n",
              "  </thead>\n",
              "  <tbody>\n",
              "    <tr>\n",
              "      <th>bed_bath_table</th>\n",
              "      <td>1692714.28</td>\n",
              "    </tr>\n",
              "    <tr>\n",
              "      <th>health_beauty</th>\n",
              "      <td>1620684.04</td>\n",
              "    </tr>\n",
              "    <tr>\n",
              "      <th>computers_accessories</th>\n",
              "      <td>1549252.47</td>\n",
              "    </tr>\n",
              "    <tr>\n",
              "      <th>furniture_decor</th>\n",
              "      <td>1394466.93</td>\n",
              "    </tr>\n",
              "    <tr>\n",
              "      <th>watches_gifts</th>\n",
              "      <td>1387046.31</td>\n",
              "    </tr>\n",
              "    <tr>\n",
              "      <th>sports_leisure</th>\n",
              "      <td>1349252.93</td>\n",
              "    </tr>\n",
              "    <tr>\n",
              "      <th>housewares</th>\n",
              "      <td>1069787.97</td>\n",
              "    </tr>\n",
              "    <tr>\n",
              "      <th>auto</th>\n",
              "      <td>833610.84</td>\n",
              "    </tr>\n",
              "    <tr>\n",
              "      <th>garden_tools</th>\n",
              "      <td>810614.93</td>\n",
              "    </tr>\n",
              "    <tr>\n",
              "      <th>cool_stuff</th>\n",
              "      <td>744649.32</td>\n",
              "    </tr>\n",
              "  </tbody>\n",
              "</table>\n",
              "</div>"
            ],
            "text/plain": [
              "                          revenue\n",
              "product_name                     \n",
              "bed_bath_table         1692714.28\n",
              "health_beauty          1620684.04\n",
              "computers_accessories  1549252.47\n",
              "furniture_decor        1394466.93\n",
              "watches_gifts          1387046.31\n",
              "sports_leisure         1349252.93\n",
              "housewares             1069787.97\n",
              "auto                    833610.84\n",
              "garden_tools            810614.93\n",
              "cool_stuff              744649.32"
            ]
          },
          "execution_count": 48,
          "metadata": {},
          "output_type": "execute_result"
        }
      ],
      "source": [
        "# Group the 'order_df' DataFrame by 'product_name' summing the 'payment_value' for each group. Then sort the result by 'revenue' in descending order.\n",
        "best_selling_product = order_df.groupby(['product_name']).agg(revenue = ('payment_value', 'sum')).sort_values(by='revenue', ascending=False)\n",
        "\n",
        "# Get the first 10 rows from the grouped data above.\n",
        "top_10 = best_selling_product.head(10)\n",
        "top_10"
      ]
    },
    {
      "cell_type": "markdown",
      "metadata": {
        "id": "yKKnEr0sbEoD"
      },
      "source": [
        "<div>\n",
        "<style scoped>\n",
        "    .dataframe tbody tr th:only-of-type {\n",
        "        vertical-align: middle;\n",
        "    }\n",
        "    p {\n",
        "      font-size: 20px;\n",
        "    }\n",
        "    .dataframe tbody tr th {\n",
        "        vertical-align: top;\n",
        "    }\n",
        "    .dataframe thead th {\n",
        "        text-align: right;\n",
        "    }\n",
        "</style>\n",
        "<p><b>Expected Output:</b></p>\n",
        "<table border=\"1\" class=\"dataframe\">\n",
        "  <thead>\n",
        "    <tr style=\"text-align: right;\">\n",
        "      <th></th>\n",
        "      <th>revenue</th>\n",
        "    </tr>\n",
        "    <tr>\n",
        "      <th>product_name</th>\n",
        "      <th></th>\n",
        "    </tr>\n",
        "  </thead>\n",
        "  <tbody>\n",
        "    <tr>\n",
        "      <th>bed_bath_table</th>\n",
        "      <td>1692714.28</td>\n",
        "    </tr>\n",
        "    <tr>\n",
        "      <th>health_beauty</th>\n",
        "      <td>1620684.04</td>\n",
        "    </tr>\n",
        "    <tr>\n",
        "      <th>computers_accessories</th>\n",
        "      <td>1549252.47</td>\n",
        "    </tr>\n",
        "    <tr>\n",
        "      <th>furniture_decor</th>\n",
        "      <td>1394466.93</td>\n",
        "    </tr>\n",
        "    <tr>\n",
        "      <th>watches_gifts</th>\n",
        "      <td>1387046.31</td>\n",
        "    </tr>\n",
        "    <tr>\n",
        "      <th>sports_leisure</th>\n",
        "      <td>1349252.93</td>\n",
        "    </tr>\n",
        "    <tr>\n",
        "      <th>housewares</th>\n",
        "      <td>1069787.97</td>\n",
        "    </tr>\n",
        "    <tr>\n",
        "      <th>auto</th>\n",
        "      <td>833610.84</td>\n",
        "    </tr>\n",
        "    <tr>\n",
        "      <th>garden_tools</th>\n",
        "      <td>810614.93</td>\n",
        "    </tr>\n",
        "    <tr>\n",
        "      <th>cool_stuff</th>\n",
        "      <td>744649.32</td>\n",
        "    </tr>\n",
        "  </tbody>\n",
        "</table>\n",
        "</div>"
      ]
    },
    {
      "cell_type": "code",
      "execution_count": null,
      "metadata": {
        "id": "Wb5NJdXrbEoE",
        "outputId": "6ac4f512-0981-477d-bf24-d57983cb9bdc"
      },
      "outputs": [
        {
          "data": {
            "text/plain": [
              "Text(0.5, 1.0, 'Top 10 Best Selling Products')"
            ]
          },
          "execution_count": 49,
          "metadata": {},
          "output_type": "execute_result"
        },
        {
          "data": {
            "image/png": "[encoded data removed]",
            "text/plain": [
              "<Figure size 1500x800 with 1 Axes>"
            ]
          },
          "metadata": {},
          "output_type": "display_data"
        }
      ],
      "source": [
        "# Visualize the top 10 products\n",
        "plt.figure(figsize=(15, 8))\n",
        "sns.barplot(data=top_10, x=top_10.index, y='revenue')\n",
        "plt.title('Top 10 Best Selling Products')\n",
        "# Hint: Use the the top 10 data you have defined berore. You can use the index for one of the axis."
      ]
    },
    {
      "cell_type": "markdown",
      "metadata": {
        "id": "bLQ7bN7JbEoF"
      },
      "source": [
        "Interpretation:  \n",
        "Produk yang paling banyak terjual adalah bed_bath_table. Lalu diikuti oleh health_beauty dan sports_leisure."
      ]
    }
  ],
  "metadata": {
    "grader_version": "2",
    "kernelspec": {
      "display_name": "Python 3",
      "language": "python",
      "name": "python3"
    },
    "language_info": {
      "codemirror_mode": {
        "name": "ipython",
        "version": 3
      },
      "file_extension": ".py",
      "mimetype": "text/x-python",
      "name": "python",
      "nbconvert_exporter": "python",
      "pygments_lexer": "ipython3",
      "version": "3.11.1"
    },
    "colab": {
      "provenance": [],
      "toc_visible": true
    }
  },
  "nbformat": 4,
  "nbformat_minor": 0
}